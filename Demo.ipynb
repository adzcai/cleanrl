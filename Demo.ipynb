{
 "cells": [
  {
   "cell_type": "code",
   "execution_count": 1,
   "metadata": {},
   "outputs": [],
   "source": [
    "%load_ext autoreload\n",
    "%autoreload 2"
   ]
  },
  {
   "cell_type": "markdown",
   "metadata": {},
   "source": [
    "# Testing multi catch environment"
   ]
  },
  {
   "cell_type": "code",
   "execution_count": 2,
   "metadata": {},
   "outputs": [
    {
     "name": "stdout",
     "output_type": "stream",
     "text": [
      "Timestep(state=LogState(_inner=PrevDone(_inner=EnvState(ball_x=Array(2, dtype=int32), ball_y=Array(0, dtype=int32), paddle_x=Array(2, dtype=int32), ball_type=Array(0, dtype=int32), goal=Array(0, dtype=int32)), prev_done=Array(False, dtype=bool)), metrics=Metrics(current_return=Array(0., dtype=float32), current_length=Array(0, dtype=int32), episode_return=Array(0., dtype=float32), episode_length=Array(0, dtype=int32))), obs=GoalObs(obs=Array([[0., 0., 1., 0., 0.],\n",
      "       [0., 0., 0., 0., 0.],\n",
      "       [0., 0., 0., 0., 0.],\n",
      "       [0., 0., 0., 0., 0.],\n",
      "       [0., 0., 0., 0., 0.],\n",
      "       [0., 0., 0., 0., 0.],\n",
      "       [0., 0., 0., 0., 0.],\n",
      "       [0., 0., 0., 0., 0.],\n",
      "       [0., 0., 0., 0., 0.],\n",
      "       [0., 0., 1., 0., 0.]], dtype=float32), goal=Array(0, dtype=int32)), reward=Array(0., dtype=float32, weak_type=True), discount=Array(0., dtype=float32, weak_type=True), step_type=Array(1, dtype=int32), info={'metrics': Metrics(current_return=Array(0., dtype=float32), current_length=Array(0, dtype=int32), episode_return=Array(0., dtype=float32), episode_length=Array(0, dtype=int32))})\n"
     ]
    },
    {
     "data": {
      "image/png": "[encoded data removed]",
      "text/plain": [
       "<Figure size 640x480 with 1 Axes>"
      ]
     },
     "metadata": {},
     "output_type": "display_data"
    },
    {
     "name": "stdout",
     "output_type": "stream",
     "text": [
      "Timestep(state=LogState(_inner=PrevDone(_inner=EnvState(ball_x=Array(2, dtype=int32), ball_y=Array(1, dtype=int32), paddle_x=Array(3, dtype=int32), ball_type=Array(0, dtype=int32), goal=Array(0, dtype=int32)), prev_done=Array(False, dtype=bool)), metrics=Metrics(current_return=Array(0., dtype=float32), current_length=Array(1, dtype=int32), episode_return=Array(0., dtype=float32), episode_length=Array(0, dtype=int32))), obs=GoalObs(obs=Array([[0., 0., 0., 0., 0.],\n",
      "       [0., 0., 1., 0., 0.],\n",
      "       [0., 0., 0., 0., 0.],\n",
      "       [0., 0., 0., 0., 0.],\n",
      "       [0., 0., 0., 0., 0.],\n",
      "       [0., 0., 0., 0., 0.],\n",
      "       [0., 0., 0., 0., 0.],\n",
      "       [0., 0., 0., 0., 0.],\n",
      "       [0., 0., 0., 0., 0.],\n",
      "       [0., 0., 0., 1., 0.]], dtype=float32), goal=Array(0, dtype=int32)), reward=Array(0., dtype=float32, weak_type=True), discount=Array(1., dtype=float32, weak_type=True), step_type=Array(2, dtype=int32), info={'metrics': Metrics(current_return=Array(0., dtype=float32), current_length=Array(1, dtype=int32), episode_return=Array(0., dtype=float32), episode_length=Array(0, dtype=int32))})\n"
     ]
    },
    {
     "data": {
      "image/png": "[encoded data removed]",
      "text/plain": [
       "<Figure size 640x480 with 1 Axes>"
      ]
     },
     "metadata": {},
     "output_type": "display_data"
    },
    {
     "name": "stdout",
     "output_type": "stream",
     "text": [
      "Timestep(state=LogState(_inner=PrevDone(_inner=EnvState(ball_x=Array(2, dtype=int32), ball_y=Array(2, dtype=int32), paddle_x=Array(4, dtype=int32), ball_type=Array(0, dtype=int32), goal=Array(0, dtype=int32)), prev_done=Array(False, dtype=bool)), metrics=Metrics(current_return=Array(0., dtype=float32), current_length=Array(2, dtype=int32), episode_return=Array(0., dtype=float32), episode_length=Array(0, dtype=int32))), obs=GoalObs(obs=Array([[0., 0., 0., 0., 0.],\n",
      "       [0., 0., 0., 0., 0.],\n",
      "       [0., 0., 1., 0., 0.],\n",
      "       [0., 0., 0., 0., 0.],\n",
      "       [0., 0., 0., 0., 0.],\n",
      "       [0., 0., 0., 0., 0.],\n",
      "       [0., 0., 0., 0., 0.],\n",
      "       [0., 0., 0., 0., 0.],\n",
      "       [0., 0., 0., 0., 0.],\n",
      "       [0., 0., 0., 0., 1.]], dtype=float32), goal=Array(0, dtype=int32)), reward=Array(0., dtype=float32, weak_type=True), discount=Array(1., dtype=float32, weak_type=True), step_type=Array(2, dtype=int32), info={'metrics': Metrics(current_return=Array(0., dtype=float32), current_length=Array(2, dtype=int32), episode_return=Array(0., dtype=float32), episode_length=Array(0, dtype=int32))})\n"
     ]
    },
    {
     "data": {
      "image/png": "[encoded data removed]",
      "text/plain": [
       "<Figure size 640x480 with 1 Axes>"
      ]
     },
     "metadata": {},
     "output_type": "display_data"
    },
    {
     "name": "stdout",
     "output_type": "stream",
     "text": [
      "Timestep(state=LogState(_inner=PrevDone(_inner=EnvState(ball_x=Array(2, dtype=int32), ball_y=Array(3, dtype=int32), paddle_x=Array(4, dtype=int32), ball_type=Array(0, dtype=int32), goal=Array(0, dtype=int32)), prev_done=Array(False, dtype=bool)), metrics=Metrics(current_return=Array(0., dtype=float32), current_length=Array(3, dtype=int32), episode_return=Array(0., dtype=float32), episode_length=Array(0, dtype=int32))), obs=GoalObs(obs=Array([[0., 0., 0., 0., 0.],\n",
      "       [0., 0., 0., 0., 0.],\n",
      "       [0., 0., 0., 0., 0.],\n",
      "       [0., 0., 1., 0., 0.],\n",
      "       [0., 0., 0., 0., 0.],\n",
      "       [0., 0., 0., 0., 0.],\n",
      "       [0., 0., 0., 0., 0.],\n",
      "       [0., 0., 0., 0., 0.],\n",
      "       [0., 0., 0., 0., 0.],\n",
      "       [0., 0., 0., 0., 1.]], dtype=float32), goal=Array(0, dtype=int32)), reward=Array(0., dtype=float32, weak_type=True), discount=Array(1., dtype=float32, weak_type=True), step_type=Array(2, dtype=int32), info={'metrics': Metrics(current_return=Array(0., dtype=float32), current_length=Array(3, dtype=int32), episode_return=Array(0., dtype=float32), episode_length=Array(0, dtype=int32))})\n"
     ]
    },
    {
     "data": {
      "image/png": "[encoded data removed]",
      "text/plain": [
       "<Figure size 640x480 with 1 Axes>"
      ]
     },
     "metadata": {},
     "output_type": "display_data"
    },
    {
     "name": "stdout",
     "output_type": "stream",
     "text": [
      "Timestep(state=LogState(_inner=PrevDone(_inner=EnvState(ball_x=Array(2, dtype=int32), ball_y=Array(4, dtype=int32), paddle_x=Array(4, dtype=int32), ball_type=Array(0, dtype=int32), goal=Array(0, dtype=int32)), prev_done=Array(False, dtype=bool)), metrics=Metrics(current_return=Array(0., dtype=float32), current_length=Array(4, dtype=int32), episode_return=Array(0., dtype=float32), episode_length=Array(0, dtype=int32))), obs=GoalObs(obs=Array([[0., 0., 0., 0., 0.],\n",
      "       [0., 0., 0., 0., 0.],\n",
      "       [0., 0., 0., 0., 0.],\n",
      "       [0., 0., 0., 0., 0.],\n",
      "       [0., 0., 1., 0., 0.],\n",
      "       [0., 0., 0., 0., 0.],\n",
      "       [0., 0., 0., 0., 0.],\n",
      "       [0., 0., 0., 0., 0.],\n",
      "       [0., 0., 0., 0., 0.],\n",
      "       [0., 0., 0., 0., 1.]], dtype=float32), goal=Array(0, dtype=int32)), reward=Array(0., dtype=float32, weak_type=True), discount=Array(1., dtype=float32, weak_type=True), step_type=Array(2, dtype=int32), info={'metrics': Metrics(current_return=Array(0., dtype=float32), current_length=Array(4, dtype=int32), episode_return=Array(0., dtype=float32), episode_length=Array(0, dtype=int32))})\n"
     ]
    },
    {
     "data": {
      "image/png": "[encoded data removed]",
      "text/plain": [
       "<Figure size 640x480 with 1 Axes>"
      ]
     },
     "metadata": {},
     "output_type": "display_data"
    },
    {
     "name": "stdout",
     "output_type": "stream",
     "text": [
      "Timestep(state=LogState(_inner=PrevDone(_inner=EnvState(ball_x=Array(2, dtype=int32), ball_y=Array(5, dtype=int32), paddle_x=Array(3, dtype=int32), ball_type=Array(0, dtype=int32), goal=Array(0, dtype=int32)), prev_done=Array(False, dtype=bool)), metrics=Metrics(current_return=Array(0., dtype=float32), current_length=Array(5, dtype=int32), episode_return=Array(0., dtype=float32), episode_length=Array(0, dtype=int32))), obs=GoalObs(obs=Array([[0., 0., 0., 0., 0.],\n",
      "       [0., 0., 0., 0., 0.],\n",
      "       [0., 0., 0., 0., 0.],\n",
      "       [0., 0., 0., 0., 0.],\n",
      "       [0., 0., 0., 0., 0.],\n",
      "       [0., 0., 1., 0., 0.],\n",
      "       [0., 0., 0., 0., 0.],\n",
      "       [0., 0., 0., 0., 0.],\n",
      "       [0., 0., 0., 0., 0.],\n",
      "       [0., 0., 0., 1., 0.]], dtype=float32), goal=Array(0, dtype=int32)), reward=Array(0., dtype=float32, weak_type=True), discount=Array(1., dtype=float32, weak_type=True), step_type=Array(2, dtype=int32), info={'metrics': Metrics(current_return=Array(0., dtype=float32), current_length=Array(5, dtype=int32), episode_return=Array(0., dtype=float32), episode_length=Array(0, dtype=int32))})\n"
     ]
    },
    {
     "data": {
      "image/png": "[encoded data removed]",
      "text/plain": [
       "<Figure size 640x480 with 1 Axes>"
      ]
     },
     "metadata": {},
     "output_type": "display_data"
    },
    {
     "name": "stdout",
     "output_type": "stream",
     "text": [
      "Timestep(state=LogState(_inner=PrevDone(_inner=EnvState(ball_x=Array(2, dtype=int32), ball_y=Array(6, dtype=int32), paddle_x=Array(2, dtype=int32), ball_type=Array(0, dtype=int32), goal=Array(0, dtype=int32)), prev_done=Array(False, dtype=bool)), metrics=Metrics(current_return=Array(0., dtype=float32), current_length=Array(6, dtype=int32), episode_return=Array(0., dtype=float32), episode_length=Array(0, dtype=int32))), obs=GoalObs(obs=Array([[0., 0., 0., 0., 0.],\n",
      "       [0., 0., 0., 0., 0.],\n",
      "       [0., 0., 0., 0., 0.],\n",
      "       [0., 0., 0., 0., 0.],\n",
      "       [0., 0., 0., 0., 0.],\n",
      "       [0., 0., 0., 0., 0.],\n",
      "       [0., 0., 1., 0., 0.],\n",
      "       [0., 0., 0., 0., 0.],\n",
      "       [0., 0., 0., 0., 0.],\n",
      "       [0., 0., 1., 0., 0.]], dtype=float32), goal=Array(0, dtype=int32)), reward=Array(0., dtype=float32, weak_type=True), discount=Array(1., dtype=float32, weak_type=True), step_type=Array(2, dtype=int32), info={'metrics': Metrics(current_return=Array(0., dtype=float32), current_length=Array(6, dtype=int32), episode_return=Array(0., dtype=float32), episode_length=Array(0, dtype=int32))})\n"
     ]
    },
    {
     "data": {
      "image/png": "[encoded data removed]",
      "text/plain": [
       "<Figure size 640x480 with 1 Axes>"
      ]
     },
     "metadata": {},
     "output_type": "display_data"
    },
    {
     "name": "stdout",
     "output_type": "stream",
     "text": [
      "Timestep(state=LogState(_inner=PrevDone(_inner=EnvState(ball_x=Array(2, dtype=int32), ball_y=Array(7, dtype=int32), paddle_x=Array(3, dtype=int32), ball_type=Array(0, dtype=int32), goal=Array(0, dtype=int32)), prev_done=Array(False, dtype=bool)), metrics=Metrics(current_return=Array(0., dtype=float32), current_length=Array(7, dtype=int32), episode_return=Array(0., dtype=float32), episode_length=Array(0, dtype=int32))), obs=GoalObs(obs=Array([[0., 0., 0., 0., 0.],\n",
      "       [0., 0., 0., 0., 0.],\n",
      "       [0., 0., 0., 0., 0.],\n",
      "       [0., 0., 0., 0., 0.],\n",
      "       [0., 0., 0., 0., 0.],\n",
      "       [0., 0., 0., 0., 0.],\n",
      "       [0., 0., 0., 0., 0.],\n",
      "       [0., 0., 1., 0., 0.],\n",
      "       [0., 0., 0., 0., 0.],\n",
      "       [0., 0., 0., 1., 0.]], dtype=float32), goal=Array(0, dtype=int32)), reward=Array(0., dtype=float32, weak_type=True), discount=Array(1., dtype=float32, weak_type=True), step_type=Array(2, dtype=int32), info={'metrics': Metrics(current_return=Array(0., dtype=float32), current_length=Array(7, dtype=int32), episode_return=Array(0., dtype=float32), episode_length=Array(0, dtype=int32))})\n"
     ]
    },
    {
     "data": {
      "image/png": "[encoded data removed]",
      "text/plain": [
       "<Figure size 640x480 with 1 Axes>"
      ]
     },
     "metadata": {},
     "output_type": "display_data"
    },
    {
     "name": "stdout",
     "output_type": "stream",
     "text": [
      "Timestep(state=LogState(_inner=PrevDone(_inner=EnvState(ball_x=Array(2, dtype=int32), ball_y=Array(8, dtype=int32), paddle_x=Array(4, dtype=int32), ball_type=Array(0, dtype=int32), goal=Array(0, dtype=int32)), prev_done=Array(False, dtype=bool)), metrics=Metrics(current_return=Array(0., dtype=float32), current_length=Array(8, dtype=int32), episode_return=Array(0., dtype=float32), episode_length=Array(0, dtype=int32))), obs=GoalObs(obs=Array([[0., 0., 0., 0., 0.],\n",
      "       [0., 0., 0., 0., 0.],\n",
      "       [0., 0., 0., 0., 0.],\n",
      "       [0., 0., 0., 0., 0.],\n",
      "       [0., 0., 0., 0., 0.],\n",
      "       [0., 0., 0., 0., 0.],\n",
      "       [0., 0., 0., 0., 0.],\n",
      "       [0., 0., 0., 0., 0.],\n",
      "       [0., 0., 1., 0., 0.],\n",
      "       [0., 0., 0., 0., 1.]], dtype=float32), goal=Array(0, dtype=int32)), reward=Array(0., dtype=float32, weak_type=True), discount=Array(1., dtype=float32, weak_type=True), step_type=Array(2, dtype=int32), info={'metrics': Metrics(current_return=Array(0., dtype=float32), current_length=Array(8, dtype=int32), episode_return=Array(0., dtype=float32), episode_length=Array(0, dtype=int32))})\n"
     ]
    },
    {
     "data": {
      "image/png": "[encoded data removed]",
      "text/plain": [
       "<Figure size 640x480 with 1 Axes>"
      ]
     },
     "metadata": {},
     "output_type": "display_data"
    },
    {
     "name": "stdout",
     "output_type": "stream",
     "text": [
      "Timestep(state=LogState(_inner=PrevDone(_inner=EnvState(ball_x=Array(2, dtype=int32), ball_y=Array(9, dtype=int32), paddle_x=Array(4, dtype=int32), ball_type=Array(0, dtype=int32), goal=Array(0, dtype=int32)), prev_done=Array(True, dtype=bool)), metrics=Metrics(current_return=Array(0., dtype=float32), current_length=Array(0, dtype=int32), episode_return=Array(-1., dtype=float32), episode_length=Array(9, dtype=int32))), obs=GoalObs(obs=Array([[0., 0., 0., 0., 0.],\n",
      "       [0., 0., 0., 0., 0.],\n",
      "       [0., 0., 0., 0., 0.],\n",
      "       [0., 0., 0., 0., 0.],\n",
      "       [0., 0., 0., 0., 0.],\n",
      "       [0., 0., 0., 0., 0.],\n",
      "       [0., 0., 0., 0., 0.],\n",
      "       [0., 0., 0., 0., 0.],\n",
      "       [0., 0., 0., 0., 0.],\n",
      "       [0., 0., 1., 0., 1.]], dtype=float32), goal=Array(0, dtype=int32)), reward=Array(-1., dtype=float32, weak_type=True), discount=Array(0., dtype=float32, weak_type=True), step_type=Array(3, dtype=int32), info={'metrics': Metrics(current_return=Array(0., dtype=float32), current_length=Array(0, dtype=int32), episode_return=Array(-1., dtype=float32), episode_length=Array(9, dtype=int32))})\n"
     ]
    },
    {
     "data": {
      "image/png": "[encoded data removed]",
      "text/plain": [
       "<Figure size 640x480 with 1 Axes>"
      ]
     },
     "metadata": {},
     "output_type": "display_data"
    },
    {
     "name": "stdout",
     "output_type": "stream",
     "text": [
      "Timestep(state=LogState(_inner=PrevDone(_inner=EnvState(ball_x=Array(1, dtype=int32), ball_y=Array(0, dtype=int32), paddle_x=Array(2, dtype=int32), ball_type=Array(0, dtype=int32), goal=Array(0, dtype=int32)), prev_done=Array(False, dtype=bool)), metrics=Metrics(current_return=Array(0., dtype=float32), current_length=Array(1, dtype=int32), episode_return=Array(0., dtype=float32), episode_length=Array(9, dtype=int32))), obs=GoalObs(obs=Array([[0., 1., 0., 0., 0.],\n",
      "       [0., 0., 0., 0., 0.],\n",
      "       [0., 0., 0., 0., 0.],\n",
      "       [0., 0., 0., 0., 0.],\n",
      "       [0., 0., 0., 0., 0.],\n",
      "       [0., 0., 0., 0., 0.],\n",
      "       [0., 0., 0., 0., 0.],\n",
      "       [0., 0., 0., 0., 0.],\n",
      "       [0., 0., 0., 0., 0.],\n",
      "       [0., 0., 1., 0., 0.]], dtype=float32), goal=Array(0, dtype=int32)), reward=Array(0., dtype=float32, weak_type=True), discount=Array(0., dtype=float32, weak_type=True), step_type=Array(1, dtype=int32), info={'metrics': Metrics(current_return=Array(0., dtype=float32), current_length=Array(1, dtype=int32), episode_return=Array(0., dtype=float32), episode_length=Array(9, dtype=int32))})\n"
     ]
    },
    {
     "data": {
      "image/png": "[encoded data removed]",
      "text/plain": [
       "<Figure size 640x480 with 1 Axes>"
      ]
     },
     "metadata": {},
     "output_type": "display_data"
    },
    {
     "name": "stdout",
     "output_type": "stream",
     "text": [
      "Timestep(state=LogState(_inner=PrevDone(_inner=EnvState(ball_x=Array(1, dtype=int32), ball_y=Array(1, dtype=int32), paddle_x=Array(2, dtype=int32), ball_type=Array(0, dtype=int32), goal=Array(0, dtype=int32)), prev_done=Array(False, dtype=bool)), metrics=Metrics(current_return=Array(0., dtype=float32), current_length=Array(2, dtype=int32), episode_return=Array(0., dtype=float32), episode_length=Array(9, dtype=int32))), obs=GoalObs(obs=Array([[0., 0., 0., 0., 0.],\n",
      "       [0., 1., 0., 0., 0.],\n",
      "       [0., 0., 0., 0., 0.],\n",
      "       [0., 0., 0., 0., 0.],\n",
      "       [0., 0., 0., 0., 0.],\n",
      "       [0., 0., 0., 0., 0.],\n",
      "       [0., 0., 0., 0., 0.],\n",
      "       [0., 0., 0., 0., 0.],\n",
      "       [0., 0., 0., 0., 0.],\n",
      "       [0., 0., 1., 0., 0.]], dtype=float32), goal=Array(0, dtype=int32)), reward=Array(0., dtype=float32, weak_type=True), discount=Array(1., dtype=float32, weak_type=True), step_type=Array(2, dtype=int32), info={'metrics': Metrics(current_return=Array(0., dtype=float32), current_length=Array(2, dtype=int32), episode_return=Array(0., dtype=float32), episode_length=Array(9, dtype=int32))})\n"
     ]
    },
    {
     "data": {
      "image/png": "[encoded data removed]",
      "text/plain": [
       "<Figure size 640x480 with 1 Axes>"
      ]
     },
     "metadata": {},
     "output_type": "display_data"
    }
   ],
   "source": [
    "import jax\n",
    "import jax.random as jr\n",
    "import jax.numpy as jnp\n",
    "\n",
    "from wrappers.log import log_wrapper\n",
    "from wrappers.multi_catch import make_multi_catch, visualize_catch\n",
    "from wrappers.auto_reset import auto_reset_wrapper\n",
    "import dm_env.specs as specs\n",
    "from log_util import tree_slice\n",
    "\n",
    "import matplotlib.pyplot as plt\n",
    "\n",
    "\n",
    "env, params = make_multi_catch(num_goals=1)\n",
    "env = auto_reset_wrapper(env)\n",
    "env = log_wrapper(env)\n",
    "key = jr.key(0)\n",
    "\n",
    "key, key_ = jr.split(key)\n",
    "timestep = env.reset(params, key=key_)\n",
    "\n",
    "action_space: specs.DiscreteArray = env.action_space(params)\n",
    "\n",
    "for _ in range(12):\n",
    "    print(timestep)\n",
    "\n",
    "    out = visualize_catch(env_states=tree_slice(timestep.state, jnp.newaxis))[0]\n",
    "    out = jnp.transpose(out, (1, 2, 0))\n",
    "    plt.imshow(out)\n",
    "    plt.grid(True)\n",
    "    plt.gca().xaxis.set_major_locator(plt.MultipleLocator(1))\n",
    "    plt.gca().yaxis.set_major_locator(plt.MultipleLocator(1))\n",
    "    plt.show()\n",
    "\n",
    "    key, key_a, key_step = jr.split(key, 3)\n",
    "\n",
    "    timestep = env.step(\n",
    "        timestep.state,\n",
    "        jr.randint(key_a, (), 0, action_space.num_values),\n",
    "        params,\n",
    "        key=key_step,\n",
    "    )"
   ]
  },
  {
   "cell_type": "markdown",
   "metadata": {},
   "source": [
    "# Testing sum tree"
   ]
  },
  {
   "cell_type": "code",
   "execution_count": 3,
   "metadata": {},
   "outputs": [
    {
     "name": "stdout",
     "output_type": "stream",
     "text": [
      "Level 0:                                                            0.00                                                 \n",
      "Level 1:                                0.00                                                    0.00                     \n",
      "Level 2:                  0.00                        0.00                        0.00                        0.00       \n",
      "Level 3:           0.00          0.00          0.00          0.00          0.00          0.00          0.00          0.00\n",
      "Level 4:    0.00   0.00   0.00   0.00   0.00   0.00   0.00   0.00   0.00   0.00   0.00   0.00   0.00   0.00   0.00   0.00\n",
      "----------------------------------------------------------------------------------------------------------------\n",
      "Leaf values: [0. 0. 0. 0. 0. 0. 0. 0. 0. 0.]\n"
     ]
    }
   ],
   "source": [
    "from prioritized_buffer import SumTree\n",
    "\n",
    "sum_tree = SumTree.new(10)\n",
    "state = sum_tree.init()\n",
    "sum_tree.pprint(state)"
   ]
  },
  {
   "cell_type": "code",
   "execution_count": 4,
   "metadata": {},
   "outputs": [
    {
     "name": "stdout",
     "output_type": "stream",
     "text": [
      "Level 0:                                                           10.00                                                 \n",
      "Level 1:                               10.00                                                    0.00                     \n",
      "Level 2:                  0.00                       10.00                        0.00                        0.00       \n",
      "Level 3:           0.00          0.00         10.00          0.00          0.00          0.00          0.00          0.00\n",
      "Level 4:    0.00   0.00   0.00   0.00  10.00   0.00   0.00   0.00   0.00   0.00   0.00   0.00   0.00   0.00   0.00   0.00\n",
      "----------------------------------------------------------------------------------------------------------------\n",
      "Leaf values: [ 0.  0.  0.  0. 10.  0.  0.  0.  0.  0.]\n"
     ]
    }
   ],
   "source": [
    "state = sum_tree.update(state, jnp.asarray([4]), jnp.asarray([10]))\n",
    "sum_tree.pprint(state)"
   ]
  },
  {
   "cell_type": "code",
   "execution_count": 5,
   "metadata": {},
   "outputs": [
    {
     "name": "stdout",
     "output_type": "stream",
     "text": [
      "Level 0:                                                           41.00                                                 \n",
      "Level 1:                               17.00                                                   24.00                     \n",
      "Level 2:                  0.00                       17.00                       24.00                        0.00       \n",
      "Level 3:           0.00          0.00         11.00          6.00         24.00          0.00          0.00          0.00\n",
      "Level 4:    0.00   0.00   0.00   0.00  10.00   1.00   2.00   4.00   8.00  16.00   0.00   0.00   0.00   0.00   0.00   0.00\n",
      "----------------------------------------------------------------------------------------------------------------\n",
      "Leaf values: [ 0.  0.  0.  0. 10.  1.  2.  4.  8. 16.]\n"
     ]
    }
   ],
   "source": [
    "state = sum_tree.update(state, jnp.arange(5, 10), jnp.power(2, jnp.arange(5)))\n",
    "sum_tree.pprint(state)"
   ]
  },
  {
   "cell_type": "code",
   "execution_count": 6,
   "metadata": {},
   "outputs": [
    {
     "name": "stdout",
     "output_type": "stream",
     "text": [
      "Level 0:                                                           42.00                                                 \n",
      "Level 1:                               18.00                                                   24.00                     \n",
      "Level 2:                  1.00                       17.00                       24.00                        0.00       \n",
      "Level 3:           1.00          0.00         11.00          6.00         24.00          0.00          0.00          0.00\n",
      "Level 4:    1.00   0.00   0.00   0.00  10.00   1.00   2.00   4.00   8.00  16.00   0.00   0.00   0.00   0.00   0.00   0.00\n",
      "----------------------------------------------------------------------------------------------------------------\n",
      "Leaf values: [ 1.  0.  0.  0. 10.  1.  2.  4.  8. 16.]\n"
     ]
    }
   ],
   "source": [
    "state = sum_tree.update(state, jnp.zeros(5, int), jnp.power(2, jnp.arange(5)))\n",
    "sum_tree.pprint(state)"
   ]
  },
  {
   "cell_type": "code",
   "execution_count": 7,
   "metadata": {},
   "outputs": [
    {
     "data": {
      "image/png": "[encoded data removed]",
      "text/plain": [
       "<Figure size 640x480 with 1 Axes>"
      ]
     },
     "metadata": {},
     "output_type": "display_data"
    }
   ],
   "source": [
    "key, key_ = jr.split(key)\n",
    "idx, priorities = jax.vmap(sum_tree.sample, (None, 0))(state, jr.split(key_, 10000))\n",
    "plt.figure()\n",
    "plt.hist(idx, bins=10, density=True)\n",
    "plt.xlabel(\"Priority\")\n",
    "plt.ylabel(\"Count\")\n",
    "plt.title(\"Distribution of Sampled Priorities\")\n",
    "plt.show()"
   ]
  },
  {
   "cell_type": "code",
   "execution_count": 8,
   "metadata": {},
   "outputs": [
    {
     "data": {
      "text/plain": [
       "Array([-0.00100952,  0.        ,  0.        ,  0.        , -0.00519525,\n",
       "       -0.00070952, -0.00111905, -0.0033381 ,  0.00182381,  0.00954762],      dtype=float32)"
      ]
     },
     "execution_count": 8,
     "metadata": {},
     "output_type": "execute_result"
    }
   ],
   "source": [
    "leaves = state.nodes[sum_tree.leaf_idx : sum_tree.leaf_idx + 10]\n",
    "(jnp.bincount(idx) / 10000) - (leaves / leaves.sum())"
   ]
  },
  {
   "cell_type": "markdown",
   "metadata": {},
   "source": [
    "# Testing prioritized buffer"
   ]
  },
  {
   "cell_type": "code",
   "execution_count": 9,
   "metadata": {},
   "outputs": [],
   "source": [
    "from prioritized_buffer import PrioritizedBuffer\n",
    "\n",
    "buffer = PrioritizedBuffer.new(batch_size=4, max_time=10, horizon=5)"
   ]
  },
  {
   "cell_type": "code",
   "execution_count": 10,
   "metadata": {},
   "outputs": [
    {
     "data": {
      "text/plain": [
       "BufferState(data={'foo': Array([[[0., 0.],\n",
       "        [0., 0.],\n",
       "        [0., 0.],\n",
       "        [0., 0.],\n",
       "        [0., 0.],\n",
       "        [0., 0.],\n",
       "        [0., 0.],\n",
       "        [0., 0.],\n",
       "        [0., 0.],\n",
       "        [0., 0.]],\n",
       "\n",
       "       [[0., 0.],\n",
       "        [0., 0.],\n",
       "        [0., 0.],\n",
       "        [0., 0.],\n",
       "        [0., 0.],\n",
       "        [0., 0.],\n",
       "        [0., 0.],\n",
       "        [0., 0.],\n",
       "        [0., 0.],\n",
       "        [0., 0.]],\n",
       "\n",
       "       [[0., 0.],\n",
       "        [0., 0.],\n",
       "        [0., 0.],\n",
       "        [0., 0.],\n",
       "        [0., 0.],\n",
       "        [0., 0.],\n",
       "        [0., 0.],\n",
       "        [0., 0.],\n",
       "        [0., 0.],\n",
       "        [0., 0.]],\n",
       "\n",
       "       [[0., 0.],\n",
       "        [0., 0.],\n",
       "        [0., 0.],\n",
       "        [0., 0.],\n",
       "        [0., 0.],\n",
       "        [0., 0.],\n",
       "        [0., 0.],\n",
       "        [0., 0.],\n",
       "        [0., 0.],\n",
       "        [0., 0.]]], dtype=float32)}, pos=Array(0, dtype=uint32), priority_state=SumTreeState(nodes=Array([0., 0., 0., 0., 0., 0., 0., 0., 0., 0., 0., 0., 0., 0., 0., 0., 0.,\n",
       "       0., 0., 0., 0., 0., 0., 0., 0., 0., 0., 0., 0., 0., 0., 0., 0., 0.,\n",
       "       0., 0., 0., 0., 0., 0., 0., 0., 0., 0., 0., 0., 0., 0., 0., 0., 0.,\n",
       "       0., 0., 0., 0., 0., 0., 0., 0., 0., 0., 0., 0., 0., 0., 0., 0., 0.,\n",
       "       0., 0., 0., 0., 0., 0., 0., 0., 0., 0., 0., 0., 0., 0., 0., 0., 0.,\n",
       "       0., 0., 0., 0., 0., 0., 0., 0., 0., 0., 0., 0., 0., 0., 0., 0., 0.,\n",
       "       0., 0., 0., 0., 0., 0., 0., 0., 0., 0., 0., 0., 0., 0., 0., 0., 0.,\n",
       "       0., 0., 0., 0., 0., 0., 0., 0.], dtype=float32), max_priority=Array(1., dtype=float32), step=Array(0, dtype=uint32)))"
      ]
     },
     "execution_count": 10,
     "metadata": {},
     "output_type": "execute_result"
    }
   ],
   "source": [
    "buffer_state = buffer.init({\"foo\": jnp.empty(2)})\n",
    "buffer_state"
   ]
  },
  {
   "cell_type": "code",
   "execution_count": 11,
   "metadata": {},
   "outputs": [
    {
     "data": {
      "text/plain": [
       "BufferState(data={'foo': Array([[[ 0.,  1.],\n",
       "        [ 2.,  3.],\n",
       "        [ 4.,  5.],\n",
       "        [ 0.,  0.],\n",
       "        [ 0.,  0.],\n",
       "        [ 0.,  0.],\n",
       "        [ 0.,  0.],\n",
       "        [ 0.,  0.],\n",
       "        [ 0.,  0.],\n",
       "        [ 0.,  0.]],\n",
       "\n",
       "       [[ 6.,  7.],\n",
       "        [ 8.,  9.],\n",
       "        [10., 11.],\n",
       "        [ 0.,  0.],\n",
       "        [ 0.,  0.],\n",
       "        [ 0.,  0.],\n",
       "        [ 0.,  0.],\n",
       "        [ 0.,  0.],\n",
       "        [ 0.,  0.],\n",
       "        [ 0.,  0.]],\n",
       "\n",
       "       [[12., 13.],\n",
       "        [14., 15.],\n",
       "        [16., 17.],\n",
       "        [ 0.,  0.],\n",
       "        [ 0.,  0.],\n",
       "        [ 0.,  0.],\n",
       "        [ 0.,  0.],\n",
       "        [ 0.,  0.],\n",
       "        [ 0.,  0.],\n",
       "        [ 0.,  0.]],\n",
       "\n",
       "       [[18., 19.],\n",
       "        [20., 21.],\n",
       "        [22., 23.],\n",
       "        [ 0.,  0.],\n",
       "        [ 0.,  0.],\n",
       "        [ 0.,  0.],\n",
       "        [ 0.,  0.],\n",
       "        [ 0.,  0.],\n",
       "        [ 0.,  0.],\n",
       "        [ 0.,  0.]]], dtype=float32)}, pos=Array(3, dtype=uint32), priority_state=SumTreeState(nodes=Array([4., 4., 0., 2., 2., 0., 0., 1., 1., 1., 1., 0., 0., 0., 0., 1., 0.,\n",
       "       1., 0., 0., 1., 0., 1., 0., 0., 0., 0., 0., 0., 0., 0., 1., 0., 0.,\n",
       "       0., 0., 1., 0., 0., 0., 0., 1., 0., 0., 0., 0., 1., 0., 0., 0., 0.,\n",
       "       0., 0., 0., 0., 0., 0., 0., 0., 0., 0., 0., 0., 1., 0., 0., 0., 0.,\n",
       "       0., 0., 0., 0., 0., 1., 0., 0., 0., 0., 0., 0., 0., 0., 0., 1., 0.,\n",
       "       0., 0., 0., 0., 0., 0., 0., 0., 1., 0., 0., 0., 0., 0., 0., 0., 0.,\n",
       "       0., 0., 0., 0., 0., 0., 0., 0., 0., 0., 0., 0., 0., 0., 0., 0., 0.,\n",
       "       0., 0., 0., 0., 0., 0., 0., 0.], dtype=float32), max_priority=Array(1., dtype=float32), step=Array(1, dtype=uint32)))"
      ]
     },
     "execution_count": 11,
     "metadata": {},
     "output_type": "execute_result"
    }
   ],
   "source": [
    "buffer_state = buffer.add(buffer_state, {\"foo\": jnp.arange(24).reshape(4, 3, 2)})\n",
    "buffer_state"
   ]
  },
  {
   "cell_type": "code",
   "execution_count": 12,
   "metadata": {},
   "outputs": [
    {
     "data": {
      "text/plain": [
       "Array(0, dtype=uint32)"
      ]
     },
     "execution_count": 12,
     "metadata": {},
     "output_type": "execute_result"
    }
   ],
   "source": [
    "buffer.available_pos(buffer_state)"
   ]
  },
  {
   "cell_type": "code",
   "execution_count": 13,
   "metadata": {},
   "outputs": [
    {
     "name": "stdout",
     "output_type": "stream",
     "text": [
      "Level 0:                                                                                                                                                                                                                                    4.00                                                                                                                                                                                                                         \n",
      "Level 1:                                                                                                                    4.00                                                                                                                                                                                                                            0.00                                                                                                         \n",
      "Level 2:                                                            2.00                                                                                                            2.00                                                                                                            0.00                                                                                                            0.00                                                 \n",
      "Level 3:                                1.00                                                    1.00                                                    1.00                                                    1.00                                                    0.00                                                    0.00                                                    0.00                                                    0.00                     \n",
      "Level 4:                  1.00                        0.00                        1.00                        0.00                        0.00                        1.00                        0.00                        1.00                        0.00                        0.00                        0.00                        0.00                        0.00                        0.00                        0.00                        0.00       \n",
      "Level 5:           1.00          0.00          0.00          0.00          0.00          1.00          0.00          0.00          0.00          0.00          1.00          0.00          0.00          0.00          0.00          1.00          0.00          0.00          0.00          0.00          0.00          0.00          0.00          0.00          0.00          0.00          0.00          0.00          0.00          0.00          0.00          0.00\n",
      "Level 6:    1.00   0.00   0.00   0.00   0.00   0.00   0.00   0.00   0.00   0.00   1.00   0.00   0.00   0.00   0.00   0.00   0.00   0.00   0.00   0.00   1.00   0.00   0.00   0.00   0.00   0.00   0.00   0.00   0.00   0.00   1.00   0.00   0.00   0.00   0.00   0.00   0.00   0.00   0.00   0.00   0.00   0.00   0.00   0.00   0.00   0.00   0.00   0.00   0.00   0.00   0.00   0.00   0.00   0.00   0.00   0.00   0.00   0.00   0.00   0.00   0.00   0.00   0.00   0.00\n",
      "----------------------------------------------------------------------------------------------------------------------------------------------------------------------------------------------------------------------------------------------------------------------------------------------------------------------------------------------------------------------------------------------------------------------------------------------------------------\n",
      "Leaf values: [1. 0. 0. 0. 0. 0. 0. 0. 0. 0. 1. 0. 0. 0. 0. 0. 0. 0. 0. 0. 1. 0. 0. 0.\n",
      " 0. 0. 0. 0. 0. 0. 1. 0. 0. 0. 0. 0. 0. 0. 0. 0.]\n"
     ]
    }
   ],
   "source": [
    "buffer.priority_tree.pprint(buffer_state.priority_state)"
   ]
  },
  {
   "cell_type": "code",
   "execution_count": 14,
   "metadata": {},
   "outputs": [
    {
     "name": "stdout",
     "output_type": "stream",
     "text": [
      "Level 0:                                                                                                                                                                                                                                   11.00                                                                                                                                                                                                                         \n",
      "Level 1:                                                                                                                   11.00                                                                                                                                                                                                                            0.00                                                                                                         \n",
      "Level 2:                                                            9.00                                                                                                            2.00                                                                                                            0.00                                                                                                            0.00                                                 \n",
      "Level 3:                                8.00                                                    1.00                                                    1.00                                                    1.00                                                    0.00                                                    0.00                                                    0.00                                                    0.00                     \n",
      "Level 4:                  1.00                        7.00                        1.00                        0.00                        0.00                        1.00                        0.00                        1.00                        0.00                        0.00                        0.00                        0.00                        0.00                        0.00                        0.00                        0.00       \n",
      "Level 5:           1.00          0.00          3.00          4.00          0.00          1.00          0.00          0.00          0.00          0.00          1.00          0.00          0.00          0.00          0.00          1.00          0.00          0.00          0.00          0.00          0.00          0.00          0.00          0.00          0.00          0.00          0.00          0.00          0.00          0.00          0.00          0.00\n",
      "Level 6:    1.00   0.00   0.00   0.00   1.00   2.00   4.00   0.00   0.00   0.00   1.00   0.00   0.00   0.00   0.00   0.00   0.00   0.00   0.00   0.00   1.00   0.00   0.00   0.00   0.00   0.00   0.00   0.00   0.00   0.00   1.00   0.00   0.00   0.00   0.00   0.00   0.00   0.00   0.00   0.00   0.00   0.00   0.00   0.00   0.00   0.00   0.00   0.00   0.00   0.00   0.00   0.00   0.00   0.00   0.00   0.00   0.00   0.00   0.00   0.00   0.00   0.00   0.00   0.00\n",
      "----------------------------------------------------------------------------------------------------------------------------------------------------------------------------------------------------------------------------------------------------------------------------------------------------------------------------------------------------------------------------------------------------------------------------------------------------------------\n",
      "Leaf values: [1. 0. 0. 0. 1. 2. 4. 0. 0. 0. 1. 0. 0. 0. 0. 0. 0. 0. 0. 0. 1. 0. 0. 0.\n",
      " 0. 0. 0. 0. 0. 0. 1. 0. 0. 0. 0. 0. 0. 0. 0. 0.]\n"
     ]
    }
   ],
   "source": [
    "buffer_state = buffer.set_priorities(buffer_state, jnp.arange(3) + 4, jnp.power(2, jnp.arange(3)))\n",
    "buffer.priority_tree.pprint(buffer_state.priority_state)\n",
    "# technically this should break"
   ]
  },
  {
   "cell_type": "code",
   "execution_count": 15,
   "metadata": {},
   "outputs": [
    {
     "data": {
      "text/plain": [
       "BufferState(data={'foo': Array([[[ 0.,  1.],\n",
       "        [ 2.,  3.],\n",
       "        [ 4.,  5.],\n",
       "        [24., 25.],\n",
       "        [26., 27.],\n",
       "        [28., 29.],\n",
       "        [ 0.,  0.],\n",
       "        [ 0.,  0.],\n",
       "        [ 0.,  0.],\n",
       "        [ 0.,  0.]],\n",
       "\n",
       "       [[ 6.,  7.],\n",
       "        [ 8.,  9.],\n",
       "        [10., 11.],\n",
       "        [30., 31.],\n",
       "        [32., 33.],\n",
       "        [34., 35.],\n",
       "        [ 0.,  0.],\n",
       "        [ 0.,  0.],\n",
       "        [ 0.,  0.],\n",
       "        [ 0.,  0.]],\n",
       "\n",
       "       [[12., 13.],\n",
       "        [14., 15.],\n",
       "        [16., 17.],\n",
       "        [36., 37.],\n",
       "        [38., 39.],\n",
       "        [40., 41.],\n",
       "        [ 0.,  0.],\n",
       "        [ 0.,  0.],\n",
       "        [ 0.,  0.],\n",
       "        [ 0.,  0.]],\n",
       "\n",
       "       [[18., 19.],\n",
       "        [20., 21.],\n",
       "        [22., 23.],\n",
       "        [42., 43.],\n",
       "        [44., 45.],\n",
       "        [46., 47.],\n",
       "        [ 0.,  0.],\n",
       "        [ 0.,  0.],\n",
       "        [ 0.,  0.],\n",
       "        [ 0.,  0.]]], dtype=float32)}, pos=Array(6, dtype=uint32), priority_state=SumTreeState(nodes=Array([39., 39.,  0., 23., 16.,  0.,  0., 15.,  8.,  8.,  8.,  0.,  0.,\n",
       "        0.,  0.,  8.,  7.,  8.,  0.,  0.,  8.,  0.,  8.,  0.,  0.,  0.,\n",
       "        0.,  0.,  0.,  0.,  0.,  8.,  0.,  3.,  4.,  0.,  8.,  0.,  0.,\n",
       "        0.,  0.,  8.,  0.,  0.,  0.,  0.,  8.,  0.,  0.,  0.,  0.,  0.,\n",
       "        0.,  0.,  0.,  0.,  0.,  0.,  0.,  0.,  0.,  0.,  0.,  4.,  4.,\n",
       "        0.,  0.,  1.,  2.,  4.,  0.,  0.,  0.,  4.,  4.,  0.,  0.,  0.,\n",
       "        0.,  0.,  0.,  0.,  0.,  4.,  4.,  0.,  0.,  0.,  0.,  0.,  0.,\n",
       "        0.,  0.,  4.,  4.,  0.,  0.,  0.,  0.,  0.,  0.,  0.,  0.,  0.,\n",
       "        0.,  0.,  0.,  0.,  0.,  0.,  0.,  0.,  0.,  0.,  0.,  0.,  0.,\n",
       "        0.,  0.,  0.,  0.,  0.,  0.,  0.,  0.,  0.,  0.], dtype=float32), max_priority=Array(4., dtype=float32), step=Array(3, dtype=uint32)))"
      ]
     },
     "execution_count": 15,
     "metadata": {},
     "output_type": "execute_result"
    }
   ],
   "source": [
    "buffer_state = buffer.add(buffer_state, {\"foo\": jnp.arange(24).reshape(4, 3, 2) + 24})\n",
    "buffer_state"
   ]
  },
  {
   "cell_type": "code",
   "execution_count": 16,
   "metadata": {},
   "outputs": [
    {
     "name": "stdout",
     "output_type": "stream",
     "text": [
      "Level 0:                                                                                                                                                                                                                                   39.00                                                                                                                                                                                                                         \n",
      "Level 1:                                                                                                                   39.00                                                                                                                                                                                                                            0.00                                                                                                         \n",
      "Level 2:                                                           23.00                                                                                                           16.00                                                                                                            0.00                                                                                                            0.00                                                 \n",
      "Level 3:                               15.00                                                    8.00                                                    8.00                                                    8.00                                                    0.00                                                    0.00                                                    0.00                                                    0.00                     \n",
      "Level 4:                  8.00                        7.00                        8.00                        0.00                        0.00                        8.00                        0.00                        8.00                        0.00                        0.00                        0.00                        0.00                        0.00                        0.00                        0.00                        0.00       \n",
      "Level 5:           8.00          0.00          3.00          4.00          0.00          8.00          0.00          0.00          0.00          0.00          8.00          0.00          0.00          0.00          0.00          8.00          0.00          0.00          0.00          0.00          0.00          0.00          0.00          0.00          0.00          0.00          0.00          0.00          0.00          0.00          0.00          0.00\n",
      "Level 6:    4.00   4.00   0.00   0.00   1.00   2.00   4.00   0.00   0.00   0.00   4.00   4.00   0.00   0.00   0.00   0.00   0.00   0.00   0.00   0.00   4.00   4.00   0.00   0.00   0.00   0.00   0.00   0.00   0.00   0.00   4.00   4.00   0.00   0.00   0.00   0.00   0.00   0.00   0.00   0.00   0.00   0.00   0.00   0.00   0.00   0.00   0.00   0.00   0.00   0.00   0.00   0.00   0.00   0.00   0.00   0.00   0.00   0.00   0.00   0.00   0.00   0.00   0.00   0.00\n",
      "----------------------------------------------------------------------------------------------------------------------------------------------------------------------------------------------------------------------------------------------------------------------------------------------------------------------------------------------------------------------------------------------------------------------------------------------------------------\n",
      "Leaf values: [4. 4. 0. 0. 1. 2. 4. 0. 0. 0. 4. 4. 0. 0. 0. 0. 0. 0. 0. 0. 4. 4. 0. 0.\n",
      " 0. 0. 0. 0. 0. 0. 4. 4. 0. 0. 0. 0. 0. 0. 0. 0.]\n"
     ]
    }
   ],
   "source": [
    "buffer.priority_tree.pprint(buffer_state.priority_state)"
   ]
  },
  {
   "cell_type": "code",
   "execution_count": 17,
   "metadata": {},
   "outputs": [
    {
     "data": {
      "text/plain": [
       "BufferState(data={'foo': Array([[[ 0.,  1.],\n",
       "        [ 2.,  3.],\n",
       "        [ 4.,  5.],\n",
       "        [24., 25.],\n",
       "        [26., 27.],\n",
       "        [28., 29.],\n",
       "        [48., 49.],\n",
       "        [50., 51.],\n",
       "        [52., 53.],\n",
       "        [ 0.,  0.]],\n",
       "\n",
       "       [[ 6.,  7.],\n",
       "        [ 8.,  9.],\n",
       "        [10., 11.],\n",
       "        [30., 31.],\n",
       "        [32., 33.],\n",
       "        [34., 35.],\n",
       "        [54., 55.],\n",
       "        [56., 57.],\n",
       "        [58., 59.],\n",
       "        [ 0.,  0.]],\n",
       "\n",
       "       [[12., 13.],\n",
       "        [14., 15.],\n",
       "        [16., 17.],\n",
       "        [36., 37.],\n",
       "        [38., 39.],\n",
       "        [40., 41.],\n",
       "        [60., 61.],\n",
       "        [62., 63.],\n",
       "        [64., 65.],\n",
       "        [ 0.,  0.]],\n",
       "\n",
       "       [[18., 19.],\n",
       "        [20., 21.],\n",
       "        [22., 23.],\n",
       "        [42., 43.],\n",
       "        [44., 45.],\n",
       "        [46., 47.],\n",
       "        [66., 67.],\n",
       "        [68., 69.],\n",
       "        [70., 71.],\n",
       "        [ 0.,  0.]]], dtype=float32)}, pos=Array(9, dtype=uint32), priority_state=SumTreeState(nodes=Array([86., 74., 12., 46., 28., 12.,  0., 26., 20., 16., 12., 12.,  0.,\n",
       "        0.,  0., 16., 10.,  8., 12.,  0., 16.,  4.,  8., 12.,  0.,  0.,\n",
       "        0.,  0.,  0.,  0.,  0.,  8.,  8.,  6.,  4.,  0.,  8.,  8.,  4.,\n",
       "        0.,  0.,  8.,  8.,  4.,  0.,  0.,  8.,  8.,  4.,  0.,  0.,  0.,\n",
       "        0.,  0.,  0.,  0.,  0.,  0.,  0.,  0.,  0.,  0.,  0.,  4.,  4.,\n",
       "        4.,  4.,  4.,  2.,  4.,  0.,  0.,  0.,  4.,  4.,  4.,  4.,  4.,\n",
       "        0.,  0.,  0.,  0.,  0.,  4.,  4.,  4.,  4.,  4.,  0.,  0.,  0.,\n",
       "        0.,  0.,  4.,  4.,  4.,  4.,  4.,  0.,  0.,  0.,  0.,  0.,  0.,\n",
       "        0.,  0.,  0.,  0.,  0.,  0.,  0.,  0.,  0.,  0.,  0.,  0.,  0.,\n",
       "        0.,  0.,  0.,  0.,  0.,  0.,  0.,  0.,  0.,  0.], dtype=float32), max_priority=Array(4., dtype=float32), step=Array(4, dtype=uint32)))"
      ]
     },
     "execution_count": 17,
     "metadata": {},
     "output_type": "execute_result"
    }
   ],
   "source": [
    "buffer_state = buffer.add(buffer_state, {\"foo\": jnp.arange(24).reshape(4, 3, 2) + 48})\n",
    "buffer_state"
   ]
  },
  {
   "cell_type": "code",
   "execution_count": 18,
   "metadata": {},
   "outputs": [
    {
     "name": "stdout",
     "output_type": "stream",
     "text": [
      "Level 0:                                                                                                                                                                                                                                   86.00                                                                                                                                                                                                                         \n",
      "Level 1:                                                                                                                   74.00                                                                                                                                                                                                                           12.00                                                                                                         \n",
      "Level 2:                                                           46.00                                                                                                           28.00                                                                                                           12.00                                                                                                            0.00                                                 \n",
      "Level 3:                               26.00                                                   20.00                                                   16.00                                                   12.00                                                   12.00                                                    0.00                                                    0.00                                                    0.00                     \n",
      "Level 4:                 16.00                       10.00                        8.00                       12.00                        0.00                       16.00                        4.00                        8.00                       12.00                        0.00                        0.00                        0.00                        0.00                        0.00                        0.00                        0.00       \n",
      "Level 5:           8.00          8.00          6.00          4.00          0.00          8.00          8.00          4.00          0.00          0.00          8.00          8.00          4.00          0.00          0.00          8.00          8.00          4.00          0.00          0.00          0.00          0.00          0.00          0.00          0.00          0.00          0.00          0.00          0.00          0.00          0.00          0.00\n",
      "Level 6:    4.00   4.00   4.00   4.00   4.00   2.00   4.00   0.00   0.00   0.00   4.00   4.00   4.00   4.00   4.00   0.00   0.00   0.00   0.00   0.00   4.00   4.00   4.00   4.00   4.00   0.00   0.00   0.00   0.00   0.00   4.00   4.00   4.00   4.00   4.00   0.00   0.00   0.00   0.00   0.00   0.00   0.00   0.00   0.00   0.00   0.00   0.00   0.00   0.00   0.00   0.00   0.00   0.00   0.00   0.00   0.00   0.00   0.00   0.00   0.00   0.00   0.00   0.00   0.00\n",
      "----------------------------------------------------------------------------------------------------------------------------------------------------------------------------------------------------------------------------------------------------------------------------------------------------------------------------------------------------------------------------------------------------------------------------------------------------------------\n",
      "Leaf values: [4. 4. 4. 4. 4. 2. 4. 0. 0. 0. 4. 4. 4. 4. 4. 0. 0. 0. 0. 0. 4. 4. 4. 4.\n",
      " 4. 0. 0. 0. 0. 0. 4. 4. 4. 4. 4. 0. 0. 0. 0. 0.]\n"
     ]
    }
   ],
   "source": [
    "buffer.priority_tree.pprint(buffer_state.priority_state)"
   ]
  },
  {
   "cell_type": "markdown",
   "metadata": {},
   "source": [
    "# Test bootstrapping"
   ]
  },
  {
   "cell_type": "code",
   "execution_count": 19,
   "metadata": {},
   "outputs": [],
   "source": [
    "from config import TrainConfig, get_args\n",
    "from log_util import dict_to_dataclass\n",
    "from muzero import make_train, MuZeroNetwork\n",
    "from omegaconf import OmegaConf\n",
    "\n",
    "from wrappers.flatten_observation import flatten_observation_wrapper\n",
    "\n",
    "conf = get_args([\"./conf/catch.yaml\", \"./conf/multi_catch.yaml\", \"./conf/debug.yaml\"])\n",
    "conf = dict_to_dataclass(TrainConfig, OmegaConf.to_object(conf))\n",
    "\n",
    "env = flatten_observation_wrapper(env)\n",
    "\n",
    "key, key_ = jr.split(key)\n",
    "net = MuZeroNetwork(\n",
    "    config=conf.arch,\n",
    "    obs_size=env.observation_space(params).shape,\n",
    "    num_actions=env.action_space(params).num_values,\n",
    "    num_value_bins=conf.value.num_value_bins,\n",
    "    num_goals=env.goal_space(params).num_values,\n",
    "    key=key_,\n",
    ")"
   ]
  },
  {
   "cell_type": "code",
   "execution_count": 20,
   "metadata": {},
   "outputs": [],
   "source": [
    "train, (rollout, bootstrap) = make_train(conf)"
   ]
  },
  {
   "cell_type": "code",
   "execution_count": 21,
   "metadata": {},
   "outputs": [],
   "source": [
    "key, key_, key_r = jr.split(key, 3)\n",
    "init_timestep = env.reset(params, key=key_)\n",
    "final_timestep, trajectories = rollout(\n",
    "    net, jax.tree.map(lambda x: x[jnp.newaxis], init_timestep), key=key_r\n",
    ")"
   ]
  },
  {
   "cell_type": "code",
   "execution_count": 36,
   "metadata": {},
   "outputs": [
    {
     "data": {
      "image/png": "[encoded data removed]",
      "text/plain": [
       "<Figure size 640x480 with 1 Axes>"
      ]
     },
     "metadata": {},
     "output_type": "display_data"
    },
    {
     "data": {
      "image/png": "[encoded data removed]",
      "text/plain": [
       "<Figure size 640x480 with 1 Axes>"
      ]
     },
     "metadata": {},
     "output_type": "display_data"
    },
    {
     "data": {
      "image/png": "[encoded data removed]",
      "text/plain": [
       "<Figure size 640x480 with 1 Axes>"
      ]
     },
     "metadata": {},
     "output_type": "display_data"
    },
    {
     "data": {
      "image/png": "[encoded data removed]",
      "text/plain": [
       "<Figure size 640x480 with 1 Axes>"
      ]
     },
     "metadata": {},
     "output_type": "display_data"
    },
    {
     "data": {
      "image/png": "[encoded data removed]",
      "text/plain": [
       "<Figure size 640x480 with 1 Axes>"
      ]
     },
     "metadata": {},
     "output_type": "display_data"
    },
    {
     "data": {
      "image/png": "[encoded data removed]",
      "text/plain": [
       "<Figure size 640x480 with 1 Axes>"
      ]
     },
     "metadata": {},
     "output_type": "display_data"
    },
    {
     "data": {
      "image/png": "[encoded data removed]",
      "text/plain": [
       "<Figure size 640x480 with 1 Axes>"
      ]
     },
     "metadata": {},
     "output_type": "display_data"
    },
    {
     "data": {
      "image/png": "[encoded data removed]",
      "text/plain": [
       "<Figure size 640x480 with 1 Axes>"
      ]
     },
     "metadata": {},
     "output_type": "display_data"
    },
    {
     "data": {
      "image/png": "[encoded data removed]",
      "text/plain": [
       "<Figure size 640x480 with 1 Axes>"
      ]
     },
     "metadata": {},
     "output_type": "display_data"
    },
    {
     "data": {
      "image/png": "[encoded data removed]",
      "text/plain": [
       "<Figure size 640x480 with 1 Axes>"
      ]
     },
     "metadata": {},
     "output_type": "display_data"
    },
    {
     "data": {
      "image/png": "[encoded data removed]",
      "text/plain": [
       "<Figure size 640x480 with 1 Axes>"
      ]
     },
     "metadata": {},
     "output_type": "display_data"
    },
    {
     "data": {
      "image/png": "[encoded data removed]",
      "text/plain": [
       "<Figure size 640x480 with 1 Axes>"
      ]
     },
     "metadata": {},
     "output_type": "display_data"
    },
    {
     "data": {
      "image/png": "[encoded data removed]",
      "text/plain": [
       "<Figure size 640x480 with 1 Axes>"
      ]
     },
     "metadata": {},
     "output_type": "display_data"
    },
    {
     "data": {
      "image/png": "[encoded data removed]",
      "text/plain": [
       "<Figure size 640x480 with 1 Axes>"
      ]
     },
     "metadata": {},
     "output_type": "display_data"
    },
    {
     "data": {
      "image/png": "[encoded data removed]",
      "text/plain": [
       "<Figure size 640x480 with 1 Axes>"
      ]
     },
     "metadata": {},
     "output_type": "display_data"
    },
    {
     "data": {
      "image/png": "[encoded data removed]",
      "text/plain": [
       "<Figure size 640x480 with 1 Axes>"
      ]
     },
     "metadata": {},
     "output_type": "display_data"
    },
    {
     "data": {
      "image/png": "[encoded data removed]",
      "text/plain": [
       "<Figure size 640x480 with 1 Axes>"
      ]
     },
     "metadata": {},
     "output_type": "display_data"
    },
    {
     "data": {
      "image/png": "[encoded data removed]",
      "text/plain": [
       "<Figure size 640x480 with 1 Axes>"
      ]
     },
     "metadata": {},
     "output_type": "display_data"
    },
    {
     "data": {
      "image/png": "[encoded data removed]",
      "text/plain": [
       "<Figure size 640x480 with 1 Axes>"
      ]
     },
     "metadata": {},
     "output_type": "display_data"
    },
    {
     "data": {
      "image/png": "[encoded data removed]",
      "text/plain": [
       "<Figure size 640x480 with 1 Axes>"
      ]
     },
     "metadata": {},
     "output_type": "display_data"
    }
   ],
   "source": [
    "for i, (img, discount) in enumerate(zip(trajectories.timestep.obs.obs.reshape(-1, 10, 5), trajectories.timestep.discount[0])):\n",
    "    plt.imshow(img)\n",
    "    plt.title(f\"{i} d{discount}\")\n",
    "    plt.show()"
   ]
  },
  {
   "cell_type": "code",
   "execution_count": 24,
   "metadata": {},
   "outputs": [],
   "source": [
    "pred, bootstrapped_return = bootstrap(net, tree_slice(trajectories, 0))"
   ]
  },
  {
   "cell_type": "code",
   "execution_count": 26,
   "metadata": {},
   "outputs": [
    {
     "data": {
      "text/plain": [
       "(20, 20, 3)"
      ]
     },
     "execution_count": 26,
     "metadata": {},
     "output_type": "execute_result"
    }
   ],
   "source": [
    "pred.policy_logits.shape"
   ]
  },
  {
   "cell_type": "code",
   "execution_count": 27,
   "metadata": {},
   "outputs": [
    {
     "data": {
      "text/plain": [
       "Prediction(policy_logits=Array([[[-0.5637538 , -0.17806178, -0.3019957 ],\n",
       "        [-0.5501007 , -0.12744406, -0.2611956 ],\n",
       "        [-0.53862053, -0.08488235, -0.22688904],\n",
       "        ...,\n",
       "        [-0.60902524, -0.34590173, -0.43728194],\n",
       "        [-0.6001868 , -0.3131342 , -0.4108699 ],\n",
       "        [-0.59189075, -0.28237712, -0.38607836]],\n",
       "\n",
       "       [[-0.5603763 , -0.16553998, -0.29190257],\n",
       "        [-0.5471856 , -0.11663666, -0.25248438],\n",
       "        [-0.5440606 , -0.10505098, -0.24314582],\n",
       "        ...,\n",
       "        [-0.60044086, -0.31407592, -0.41162896],\n",
       "        [-0.59212935, -0.28326184, -0.38679147],\n",
       "        [-0.5843288 , -0.25434187, -0.36348075]],\n",
       "\n",
       "       [[-0.55894   , -0.1602149 , -0.28761035],\n",
       "        [-0.5540815 , -0.14220262, -0.27309164],\n",
       "        [-0.54188156, -0.09697223, -0.23663402],\n",
       "        ...,\n",
       "        [-0.59251654, -0.28469735, -0.38794857],\n",
       "        [-0.5846915 , -0.25568673, -0.36456475],\n",
       "        [-0.56901306, -0.1975601 , -0.3177122 ]],\n",
       "\n",
       "       ...,\n",
       "\n",
       "       [[-0.56140625, -0.1693584 , -0.29498038],\n",
       "        [-0.55624175, -0.1502116 , -0.27954724],\n",
       "        [-0.5517399 , -0.1335212 , -0.26609403],\n",
       "        ...,\n",
       "        [-0.5947492 , -0.29297474, -0.3946205 ],\n",
       "        [-0.5867849 , -0.26344764, -0.37082037],\n",
       "        [-0.57933384, -0.23582342, -0.34855407]],\n",
       "\n",
       "       [[-0.5613339 , -0.16909015, -0.29476416],\n",
       "        [-0.5561781 , -0.14997566, -0.27935708],\n",
       "        [-0.5516849 , -0.1333175 , -0.26592985],\n",
       "        ...,\n",
       "        [-0.5868908 , -0.2638403 , -0.37113687],\n",
       "        [-0.57943255, -0.23618945, -0.34884912],\n",
       "        [-0.60880625, -0.34508973, -0.43662745]],\n",
       "\n",
       "       [[-0.5560852 , -0.14963114, -0.27907938],\n",
       "        [-0.55160475, -0.13302013, -0.26569018],\n",
       "        [-0.53984374, -0.08941734, -0.23054445],\n",
       "        ...,\n",
       "        [-0.5794304 , -0.23618141, -0.34884262],\n",
       "        [-0.60880494, -0.34508508, -0.43662366],\n",
       "        [-0.5999805 , -0.31236896, -0.41025308]]], dtype=float32), value_logits=Array([[[-5.80337644e-01,  5.10563552e-02],\n",
       "        [-5.77359974e-01,  9.55199599e-02],\n",
       "        [-5.74856222e-01,  1.32907003e-01],\n",
       "        [-5.74519575e-01,  1.37933433e-01],\n",
       "        [-5.72650135e-01,  1.65848047e-01],\n",
       "        [-5.72803974e-01,  1.63551152e-01],\n",
       "        [-5.72920561e-01,  1.61810160e-01],\n",
       "        [-5.83273828e-01,  7.21246004e-03],\n",
       "        [-5.79982162e-01,  5.63650131e-02],\n",
       "        [-5.78837156e-01,  7.34626651e-02],\n",
       "        [-5.87163210e-01, -5.08640409e-02],\n",
       "        [-5.83598018e-01,  2.37205625e-03],\n",
       "        [-5.82101882e-01,  2.47122943e-02],\n",
       "        [-5.78920424e-01,  7.22191036e-02],\n",
       "        [-5.87216079e-01, -5.16541302e-02],\n",
       "        [-5.85471809e-01, -2.56077647e-02],\n",
       "        [-5.83839238e-01, -1.22988224e-03],\n",
       "        [-5.90211213e-01, -9.63776261e-02],\n",
       "        [-5.88283598e-01, -6.75939620e-02],\n",
       "        [-5.86474240e-01, -4.05763686e-02]],\n",
       "\n",
       "       [[-5.79601049e-01,  6.20557368e-02],\n",
       "        [-5.76724231e-01,  1.05013400e-01],\n",
       "        [-5.76042652e-01,  1.15190476e-01],\n",
       "        [-5.73809385e-01,  1.48538530e-01],\n",
       "        [-5.73693931e-01,  1.50262505e-01],\n",
       "        [-5.73604107e-01,  1.51603311e-01],\n",
       "        [-5.83732009e-01,  3.71158123e-04],\n",
       "        [-5.80401778e-01,  5.00994325e-02],\n",
       "        [-5.79208314e-01,  6.79205060e-02],\n",
       "        [-5.87398469e-01, -5.43774962e-02],\n",
       "        [-5.83819211e-01, -9.30845737e-04],\n",
       "        [-5.82305729e-01,  2.16684043e-02],\n",
       "        [-5.79103768e-01,  6.94809258e-02],\n",
       "        [-5.87332368e-01, -5.33902943e-02],\n",
       "        [-5.85580885e-01, -2.72371471e-02],\n",
       "        [-5.83941042e-01, -2.74991989e-03],\n",
       "        [-5.90270340e-01, -9.72605944e-02],\n",
       "        [-5.88338971e-01, -6.84212148e-02],\n",
       "        [-5.86526275e-01, -4.13535237e-02],\n",
       "        [-5.84824979e-01, -1.59496069e-02]],\n",
       "\n",
       "       [[-5.79287767e-01,  6.67333901e-02],\n",
       "        [-5.78228176e-01,  8.25557411e-02],\n",
       "        [-5.75567424e-01,  1.22287005e-01],\n",
       "        [-5.75092137e-01,  1.29384160e-01],\n",
       "        [-5.74708462e-01,  1.35112792e-01],\n",
       "        [-5.84469438e-01, -1.06401742e-02],\n",
       "        [-5.81081629e-01,  3.99471223e-02],\n",
       "        [-5.79814434e-01,  5.88693619e-02],\n",
       "        [-5.87779820e-01, -6.00717068e-02],\n",
       "        [-5.84177852e-01, -6.28599524e-03],\n",
       "        [-5.82637012e-01,  1.67215168e-02],\n",
       "        [-5.79402983e-01,  6.50128126e-02],\n",
       "        [-5.87521374e-01, -5.62128127e-02],\n",
       "        [-5.85758328e-01, -2.98867524e-02],\n",
       "        [-5.84106684e-01, -5.22345304e-03],\n",
       "        [-5.90366304e-01, -9.86936390e-02],\n",
       "        [-5.88428855e-01, -6.97634816e-02],\n",
       "        [-5.86610734e-01, -4.26144898e-02],\n",
       "        [-5.84904134e-01, -1.71309710e-02],\n",
       "        [-5.81484675e-01,  3.39286029e-02]],\n",
       "\n",
       "       [[-5.78062117e-01,  8.50355923e-02],\n",
       "        [-5.75430095e-01,  1.24337256e-01],\n",
       "        [-5.74980855e-01,  1.31045371e-01],\n",
       "        [-5.74619293e-01,  1.36444747e-01],\n",
       "        [-5.84410012e-01, -9.75331664e-03],\n",
       "        [-5.81026673e-01,  4.07675803e-02],\n",
       "        [-5.79765260e-01,  5.96039891e-02],\n",
       "        [-5.87749004e-01, -5.96116483e-02],\n",
       "        [-5.84148824e-01, -5.85323572e-03],\n",
       "        [-5.82610250e-01,  1.71218216e-02],\n",
       "        [-5.79378724e-01,  6.53751493e-02],\n",
       "        [-5.87506115e-01, -5.59844077e-02],\n",
       "        [-5.85744023e-01, -2.96723247e-02],\n",
       "        [-5.84093273e-01, -5.02321124e-03],\n",
       "        [-5.90358555e-01, -9.85778123e-02],\n",
       "        [-5.88421583e-01, -6.96550012e-02],\n",
       "        [-5.86603880e-01, -4.25125957e-02],\n",
       "        [-5.84897697e-01, -1.70354843e-02],\n",
       "        [-5.81478775e-01,  3.40172946e-02],\n",
       "        [-5.78363597e-01,  8.05335939e-02]],\n",
       "\n",
       "       [[-5.80152631e-01,  5.38195074e-02],\n",
       "        [-5.78987658e-01,  7.12152123e-02],\n",
       "        [-5.77967048e-01,  8.64548087e-02],\n",
       "        [-5.86606503e-01, -4.25518155e-02],\n",
       "        [-5.83075225e-01,  1.01786256e-02],\n",
       "        [-5.81621647e-01,  3.18832099e-02],\n",
       "        [-5.88893890e-01, -7.67069012e-02],\n",
       "        [-5.85225463e-01, -2.19291747e-02],\n",
       "        [-5.83609641e-01,  2.19866633e-03],\n",
       "        [-5.80289423e-01,  5.17765284e-02],\n",
       "        [-5.88075995e-01, -6.44946396e-02],\n",
       "        [-5.86279273e-01, -3.76648009e-02],\n",
       "        [-5.84593713e-01, -1.24957263e-02],\n",
       "        [-5.90646684e-01, -1.02880090e-01],\n",
       "        [-5.88691294e-01, -7.36824274e-02],\n",
       "        [-5.86857259e-01, -4.62960303e-02],\n",
       "        [-5.85135221e-01, -2.05817223e-02],\n",
       "        [-5.81699550e-01,  3.07199657e-02],\n",
       "        [-5.78560233e-01,  7.75971711e-02],\n",
       "        [-5.77597499e-01,  9.19727385e-02]],\n",
       "\n",
       "       [[-5.79419613e-01,  6.47647381e-02],\n",
       "        [-5.78343272e-01,  8.08369815e-02],\n",
       "        [-5.86848080e-01, -4.61587012e-02],\n",
       "        [-5.83301961e-01,  6.79269433e-03],\n",
       "        [-5.81829667e-01,  2.87772119e-02],\n",
       "        [-5.89019775e-01, -7.85872936e-02],\n",
       "        [-5.85343778e-01, -2.36957967e-02],\n",
       "        [-5.83719850e-01,  5.52684069e-04],\n",
       "        [-5.80390573e-01,  5.02661169e-02],\n",
       "        [-5.88138759e-01, -6.54319227e-02],\n",
       "        [-5.86338222e-01, -3.85452807e-02],\n",
       "        [-5.84648907e-01, -1.33198798e-02],\n",
       "        [-5.90678275e-01, -1.03352055e-01],\n",
       "        [-5.88720918e-01, -7.41240084e-02],\n",
       "        [-5.86885035e-01, -4.67108190e-02],\n",
       "        [-5.85161269e-01, -2.09706426e-02],\n",
       "        [-5.81723809e-01,  3.03579569e-02],\n",
       "        [-5.78581870e-01,  7.72741437e-02],\n",
       "        [-5.77616155e-01,  9.16944146e-02],\n",
       "        [-5.75064361e-01,  1.29798710e-01]],\n",
       "\n",
       "       [[-5.77242672e-01,  9.72717404e-02],\n",
       "        [-5.86138010e-01, -3.55556905e-02],\n",
       "        [-5.82635999e-01,  1.67372823e-02],\n",
       "        [-5.81220031e-01,  3.78802717e-02],\n",
       "        [-5.88649333e-01, -7.30558932e-02],\n",
       "        [-5.84995627e-01, -1.84976757e-02],\n",
       "        [-5.83395720e-01,  5.39270043e-03],\n",
       "        [-5.80093503e-01,  5.47018051e-02],\n",
       "        [-5.87954164e-01, -6.26747906e-02],\n",
       "        [-5.86164773e-01, -3.59553099e-02],\n",
       "        [-5.84486544e-01, -1.08961165e-02],\n",
       "        [-5.90585232e-01, -1.01962671e-01],\n",
       "        [-5.88633835e-01, -7.28239417e-02],\n",
       "        [-5.86803257e-01, -4.54895794e-02],\n",
       "        [-5.85084558e-01, -1.98256075e-02],\n",
       "        [-5.81652462e-01,  3.14235389e-02],\n",
       "        [-5.78518212e-01,  7.82246590e-02],\n",
       "        [-5.77561319e-01,  9.25130248e-02],\n",
       "        [-5.75019658e-01,  1.30465686e-01],\n",
       "        [-5.74650347e-01,  1.35980368e-01]],\n",
       "\n",
       "       [[-5.78105450e-01,  8.43881965e-02],\n",
       "        [-5.75465918e-01,  1.23802871e-01],\n",
       "        [-5.75009823e-01,  1.30612880e-01],\n",
       "        [-5.84669828e-01, -1.36322975e-02],\n",
       "        [-5.81267238e-01,  3.71755660e-02],\n",
       "        [-5.79980910e-01,  5.63839078e-02],\n",
       "        [-5.77050805e-01,  1.00136757e-01],\n",
       "        [-5.86013198e-01, -3.36920023e-02],\n",
       "        [-5.84344804e-01, -8.77931714e-03],\n",
       "        [-5.82791567e-01,  1.44136548e-02],\n",
       "        [-5.89595795e-01, -8.71884525e-02],\n",
       "        [-5.87706566e-01, -5.89774847e-02],\n",
       "        [-5.85932195e-01, -3.24827731e-02],\n",
       "        [-5.84269106e-01, -7.64891505e-03],\n",
       "        [-5.80896437e-01,  4.27126586e-02],\n",
       "        [-5.77848732e-01,  8.82219672e-02],\n",
       "        [-5.76988518e-01,  1.01066589e-01],\n",
       "        [-5.74557006e-01,  1.37374759e-01],\n",
       "        [-5.74281514e-01,  1.41488582e-01],\n",
       "        [-5.74063718e-01,  1.44740015e-01]],\n",
       "\n",
       "       [[-5.76408207e-01,  1.09731734e-01],\n",
       "        [-5.75780690e-01,  1.19102180e-01],\n",
       "        [-5.85180283e-01, -2.12544799e-02],\n",
       "        [-5.81741512e-01,  3.00937593e-02],\n",
       "        [-5.80407977e-01,  5.00062704e-02],\n",
       "        [-5.77421188e-01,  9.46059525e-02],\n",
       "        [-5.86253881e-01, -3.72858942e-02],\n",
       "        [-5.84569931e-01, -1.21411085e-02],\n",
       "        [-5.83000302e-01,  1.12975538e-02],\n",
       "        [-5.89719355e-01, -8.90337527e-02],\n",
       "        [-5.87822497e-01, -6.07087612e-02],\n",
       "        [-5.86041093e-01, -3.41086984e-02],\n",
       "        [-5.84370911e-01, -9.16895270e-03],\n",
       "        [-5.80990493e-01,  4.13079560e-02],\n",
       "        [-5.77931523e-01,  8.69855583e-02],\n",
       "        [-5.77058971e-01,  1.00014418e-01],\n",
       "        [-5.74613512e-01,  1.36530817e-01],\n",
       "        [-5.74326336e-01,  1.40818924e-01],\n",
       "        [-5.74099064e-01,  1.44212216e-01],\n",
       "        [-5.84063053e-01, -4.57200408e-03]],\n",
       "\n",
       "       [[-5.78586161e-01,  7.72099495e-02],\n",
       "        [-5.87003350e-01, -4.84772325e-02],\n",
       "        [-5.83447814e-01,  4.61485982e-03],\n",
       "        [-5.81963718e-01,  2.67759562e-02],\n",
       "        [-5.78796446e-01,  7.40704834e-02],\n",
       "        [-5.87137282e-01, -5.04774749e-02],\n",
       "        [-5.85397840e-01, -2.45036781e-02],\n",
       "        [-5.83770275e-01, -2.00361013e-04],\n",
       "        [-5.90171099e-01, -9.57786143e-02],\n",
       "        [-5.88245988e-01, -6.70326948e-02],\n",
       "        [-5.86438894e-01, -4.00490761e-02],\n",
       "        [-5.84743202e-01, -1.47278905e-02],\n",
       "        [-5.81335306e-01,  3.61594856e-02],\n",
       "        [-5.78236222e-01,  8.24352503e-02],\n",
       "        [-5.77319205e-01,  9.61282849e-02],\n",
       "        [-5.74823201e-01,  1.33399248e-01],\n",
       "        [-5.74493289e-01,  1.38326347e-01],\n",
       "        [-5.74230969e-01,  1.42242581e-01],\n",
       "        [-5.84151149e-01, -5.88732958e-03],\n",
       "        [-5.80787539e-01,  4.43387032e-02]],\n",
       "\n",
       "       [[-5.79916835e-01,  5.73399961e-02],\n",
       "        [-5.76995552e-01,  1.00961596e-01],\n",
       "        [-5.76268971e-01,  1.11811072e-01],\n",
       "        [-5.73986351e-01,  1.45895660e-01],\n",
       "        [-5.83987713e-01, -3.44711542e-03],\n",
       "        [-5.82461298e-01,  1.93457007e-02],\n",
       "        [-5.81060827e-01,  4.02578115e-02],\n",
       "        [-5.88551939e-01, -7.16010630e-02],\n",
       "        [-5.86726308e-01, -4.43407893e-02],\n",
       "        [-5.85012436e-01, -1.87487602e-02],\n",
       "        [-5.83411336e-01,  5.15916944e-03],\n",
       "        [-5.80107868e-01,  5.44881523e-02],\n",
       "        [-5.77160537e-01,  9.84978676e-02],\n",
       "        [-5.76407194e-01,  1.09747171e-01],\n",
       "        [-5.74095011e-01,  1.44272774e-01],\n",
       "        [-5.73917210e-01,  1.46928519e-01],\n",
       "        [-5.73777974e-01,  1.49006873e-01],\n",
       "        [-5.83848357e-01, -1.36658549e-03],\n",
       "        [-5.80508709e-01,  4.85025644e-02],\n",
       "        [-5.79303265e-01,  6.65025413e-02]],\n",
       "\n",
       "       [[-5.81170440e-01,  3.86211872e-02],\n",
       "        [-5.79894006e-01,  5.76810837e-02],\n",
       "        [-5.76975882e-01,  1.01255596e-01],\n",
       "        [-5.85964382e-01, -3.29630375e-02],\n",
       "        [-5.84299147e-01, -8.09782743e-03],\n",
       "        [-5.82749307e-01,  1.50447488e-02],\n",
       "        [-5.89570701e-01, -8.68138373e-02],\n",
       "        [-5.87683022e-01, -5.86259663e-02],\n",
       "        [-5.85910082e-01, -3.21526527e-02],\n",
       "        [-5.84248424e-01, -7.34037161e-03],\n",
       "        [-5.80877364e-01,  4.29975688e-02],\n",
       "        [-5.77831924e-01,  8.84724855e-02],\n",
       "        [-5.76974273e-01,  1.01279587e-01],\n",
       "        [-5.74545562e-01,  1.37545407e-01],\n",
       "        [-5.74272454e-01,  1.41623884e-01],\n",
       "        [-5.74056625e-01,  1.44846618e-01],\n",
       "        [-5.84034681e-01, -4.14818525e-03],\n",
       "        [-5.80680132e-01,  4.59421575e-02],\n",
       "        [-5.79455793e-01,  6.42245114e-02],\n",
       "        [-5.87554634e-01, -5.67094088e-02]],\n",
       "\n",
       "       [[-5.80730736e-01,  4.51866686e-02],\n",
       "        [-5.77703238e-01,  9.03942883e-02],\n",
       "        [-5.86436391e-01, -4.00114655e-02],\n",
       "        [-5.84740818e-01, -1.46926641e-02],\n",
       "        [-5.83158910e-01,  8.92925262e-03],\n",
       "        [-5.89812994e-01, -9.04312879e-02],\n",
       "        [-5.87910295e-01, -6.20196164e-02],\n",
       "        [-5.86123526e-01, -3.53399217e-02],\n",
       "        [-5.84448040e-01, -1.03204250e-02],\n",
       "        [-5.81061840e-01,  4.02429700e-02],\n",
       "        [-5.77994406e-01,  8.60466659e-02],\n",
       "        [-5.77112556e-01,  9.92143750e-02],\n",
       "        [-5.74656546e-01,  1.35887951e-01],\n",
       "        [-5.74360549e-01,  1.40308231e-01],\n",
       "        [-5.74126065e-01,  1.43809289e-01],\n",
       "        [-5.84081054e-01, -4.84114885e-03],\n",
       "        [-5.80722928e-01,  4.53034937e-02],\n",
       "        [-5.79493940e-01,  6.36554062e-02],\n",
       "        [-5.87578654e-01, -5.70676625e-02],\n",
       "        [-5.83988607e-01, -3.46052647e-03]],\n",
       "\n",
       "       [[-5.80247998e-01,  5.23949265e-02],\n",
       "        [-5.88050306e-01, -6.41103983e-02],\n",
       "        [-5.86255074e-01, -3.73038650e-02],\n",
       "        [-5.84571064e-01, -1.21579170e-02],\n",
       "        [-5.90633690e-01, -1.02686539e-01],\n",
       "        [-5.88679194e-01, -7.35013187e-02],\n",
       "        [-5.86845875e-01, -4.61259186e-02],\n",
       "        [-5.85124552e-01, -2.04221904e-02],\n",
       "        [-5.81689656e-01,  3.08684111e-02],\n",
       "        [-5.78551352e-01,  7.77296126e-02],\n",
       "        [-5.77589869e-01,  9.20867920e-02],\n",
       "        [-5.75042903e-01,  1.30118549e-01],\n",
       "        [-5.74669003e-01,  1.35702044e-01],\n",
       "        [-5.74370444e-01,  1.40160441e-01],\n",
       "        [-5.84244192e-01, -7.27671385e-03],\n",
       "        [-5.80873430e-01,  4.30563986e-02],\n",
       "        [-5.79628170e-01,  6.16503954e-02],\n",
       "        [-5.87663054e-01, -5.83280325e-02],\n",
       "        [-5.84068000e-01, -4.64591384e-03],\n",
       "        [-5.82535505e-01,  1.82380378e-02]],\n",
       "\n",
       "       [[-5.78904092e-01,  7.24624991e-02],\n",
       "        [-5.77894628e-01,  8.75364244e-02],\n",
       "        [-5.77027559e-01,  1.00483418e-01],\n",
       "        [-5.85998058e-01, -3.34662199e-02],\n",
       "        [-5.84330678e-01, -8.56822729e-03],\n",
       "        [-5.82778513e-01,  1.46091580e-02],\n",
       "        [-5.81350148e-01,  3.59372795e-02],\n",
       "        [-5.78249454e-01,  8.22382271e-02],\n",
       "        [-5.75585008e-01,  1.22023851e-01],\n",
       "        [-5.75106442e-01,  1.29170597e-01],\n",
       "        [-5.73090136e-01,  1.59278154e-01],\n",
       "        [-5.73138714e-01,  1.58553064e-01],\n",
       "        [-5.73175848e-01,  1.57998025e-01],\n",
       "        [-5.83445072e-01,  4.65571880e-03],\n",
       "        [-5.80138683e-01,  5.40274978e-02],\n",
       "        [-5.78975320e-01,  7.13990927e-02],\n",
       "        [-5.87250948e-01, -5.21745682e-02],\n",
       "        [-5.83680511e-01,  1.14023685e-03],\n",
       "        [-5.82177877e-01,  2.35777497e-02],\n",
       "        [-5.78988671e-01,  7.11995065e-02]],\n",
       "\n",
       "       [[-5.76640844e-01,  1.06258363e-01],\n",
       "        [-5.75973392e-01,  1.16225064e-01],\n",
       "        [-5.85307300e-01, -2.31516659e-02],\n",
       "        [-5.83685875e-01,  1.05977058e-03],\n",
       "        [-5.82182825e-01,  2.35036016e-02],\n",
       "        [-5.80807626e-01,  4.40385044e-02],\n",
       "        [-5.77770710e-01,  8.93869996e-02],\n",
       "        [-5.75190604e-01,  1.27913535e-01],\n",
       "        [-5.74787617e-01,  1.33930773e-01],\n",
       "        [-5.72850108e-01,  1.62862718e-01],\n",
       "        [-5.72955608e-01,  1.61287010e-01],\n",
       "        [-5.73035955e-01,  1.60087287e-01],\n",
       "        [-5.83351254e-01,  6.05675578e-03],\n",
       "        [-5.80052853e-01,  5.53090274e-02],\n",
       "        [-5.78899503e-01,  7.25310147e-02],\n",
       "        [-5.87202847e-01, -5.14560342e-02],\n",
       "        [-5.83635271e-01,  1.81564689e-03],\n",
       "        [-5.82136214e-01,  2.41999030e-02],\n",
       "        [-5.78951240e-01,  7.17587769e-02],\n",
       "        [-5.87235689e-01, -5.19463420e-02]],\n",
       "\n",
       "       [[-5.76774657e-01,  1.04260117e-01],\n",
       "        [-5.85833073e-01, -3.10023427e-02],\n",
       "        [-5.84176481e-01, -6.26552105e-03],\n",
       "        [-5.82635760e-01,  1.67404413e-02],\n",
       "        [-5.81219852e-01,  3.78831625e-02],\n",
       "        [-5.78134000e-01,  8.39618444e-02],\n",
       "        [-5.75489461e-01,  1.23450607e-01],\n",
       "        [-5.75028956e-01,  1.30327582e-01],\n",
       "        [-5.73031545e-01,  1.60152823e-01],\n",
       "        [-5.73093891e-01,  1.59221739e-01],\n",
       "        [-5.73141575e-01,  1.58509910e-01],\n",
       "        [-5.83422065e-01,  4.99892235e-03],\n",
       "        [-5.80117643e-01,  5.43415546e-02],\n",
       "        [-5.78956723e-01,  7.16766119e-02],\n",
       "        [-5.87239146e-01, -5.19984663e-02],\n",
       "        [-5.83669424e-01,  1.30575895e-03],\n",
       "        [-5.82167685e-01,  2.37302482e-02],\n",
       "        [-5.78979492e-01,  7.13366270e-02],\n",
       "        [-5.87253630e-01, -5.22142053e-02],\n",
       "        [-5.85506976e-01, -2.61333287e-02]],\n",
       "\n",
       "       [[-5.79825699e-01,  5.87015748e-02],\n",
       "        [-5.78699350e-01,  7.55204856e-02],\n",
       "        [-5.77717483e-01,  9.01816785e-02],\n",
       "        [-5.76877058e-01,  1.02730900e-01],\n",
       "        [-5.74467838e-01,  1.38706297e-01],\n",
       "        [-5.72611749e-01,  1.66421443e-01],\n",
       "        [-5.72774947e-01,  1.63984686e-01],\n",
       "        [-5.71392655e-01,  1.84625059e-01],\n",
       "        [-5.71868300e-01,  1.77522987e-01],\n",
       "        [-5.72218537e-01,  1.72293246e-01],\n",
       "        [-5.82802594e-01,  1.42490268e-02],\n",
       "        [-5.79553127e-01,  6.27714992e-02],\n",
       "        [-5.78460097e-01,  7.90929794e-02],\n",
       "        [-5.86922824e-01, -4.72745597e-02],\n",
       "        [-5.83372176e-01,  5.74466586e-03],\n",
       "        [-5.81894159e-01,  2.78144777e-02],\n",
       "        [-5.78734159e-01,  7.50006139e-02],\n",
       "        [-5.87097645e-01, -4.98855114e-02],\n",
       "        [-5.85360646e-01, -2.39483118e-02],\n",
       "        [-5.83735585e-01,  3.17335129e-04]],\n",
       "\n",
       "       [[-5.79809904e-01,  5.89371920e-02],\n",
       "        [-5.78685462e-01,  7.57277310e-02],\n",
       "        [-5.77705503e-01,  9.03606117e-02],\n",
       "        [-5.75137258e-01,  1.28709942e-01],\n",
       "        [-5.73113501e-01,  1.58929288e-01],\n",
       "        [-5.73156595e-01,  1.58286095e-01],\n",
       "        [-5.71661234e-01,  1.80615276e-01],\n",
       "        [-5.72065473e-01,  1.74578518e-01],\n",
       "        [-5.72365046e-01,  1.70105398e-01],\n",
       "        [-5.82901001e-01,  1.27800703e-02],\n",
       "        [-5.79642475e-01,  6.14373982e-02],\n",
       "        [-5.78538358e-01,  7.79236257e-02],\n",
       "        [-5.86972833e-01, -4.80216742e-02],\n",
       "        [-5.83419144e-01,  5.04288077e-03],\n",
       "        [-5.81937373e-01,  2.71694660e-02],\n",
       "        [-5.78772843e-01,  7.44230449e-02],\n",
       "        [-5.87122262e-01, -5.02531826e-02],\n",
       "        [-5.85383773e-01, -2.42932439e-02],\n",
       "        [-5.83757162e-01, -4.17232513e-06],\n",
       "        [-5.90163410e-01, -9.56643671e-02]],\n",
       "\n",
       "       [[-5.78665197e-01,  7.60303736e-02],\n",
       "        [-5.77687979e-01,  9.06218290e-02],\n",
       "        [-5.75122952e-01,  1.28923357e-01],\n",
       "        [-5.73102653e-01,  1.59090996e-01],\n",
       "        [-5.73148310e-01,  1.58409864e-01],\n",
       "        [-5.71655333e-01,  1.80702895e-01],\n",
       "        [-5.72061181e-01,  1.74643129e-01],\n",
       "        [-5.72361827e-01,  1.70153528e-01],\n",
       "        [-5.82898855e-01,  1.28123760e-02],\n",
       "        [-5.79640508e-01,  6.14668131e-02],\n",
       "        [-5.78536630e-01,  7.79494047e-02],\n",
       "        [-5.86971760e-01, -4.80051935e-02],\n",
       "        [-5.83418131e-01,  5.05834818e-03],\n",
       "        [-5.81936419e-01,  2.71836817e-02],\n",
       "        [-5.78771949e-01,  7.44357705e-02],\n",
       "        [-5.87121725e-01, -5.02450764e-02],\n",
       "        [-5.85383236e-01, -2.42856443e-02],\n",
       "        [-5.83756685e-01,  2.89082527e-06],\n",
       "        [-5.90163171e-01, -9.56602395e-02],\n",
       "        [-5.88238537e-01, -6.69217706e-02]]], dtype=float32))"
      ]
     },
     "execution_count": 27,
     "metadata": {},
     "output_type": "execute_result"
    }
   ],
   "source": [
    "pred"
   ]
  },
  {
   "cell_type": "code",
   "execution_count": 35,
   "metadata": {},
   "outputs": [
    {
     "name": "stdout",
     "output_type": "stream",
     "text": [
      "0 -0.53687644\n",
      "1 -0.58390176\n",
      "2 -0.63436776\n",
      "3 -0.68775886\n",
      "4 -0.74473166\n",
      "5 -0.8048342\n",
      "6 -0.86825293\n",
      "7 -0.9318034\n",
      "8 -1.0\n",
      "9 0.0\n",
      "10 -0.55531526\n",
      "11 -0.601295\n",
      "12 -0.6503428\n",
      "13 -0.7031858\n",
      "14 -0.7561891\n",
      "15 -0.81274384\n",
      "16 -0.8730065\n",
      "17 -0.93445724\n",
      "18 -1.0\n"
     ]
    }
   ],
   "source": [
    "for i, r in enumerate(bootstrapped_return[0]):\n",
    "    print(i, r)"
   ]
  },
  {
   "cell_type": "code",
   "execution_count": null,
   "metadata": {},
   "outputs": [],
   "source": []
  }
 ],
 "metadata": {
  "kernelspec": {
   "display_name": ".venv",
   "language": "python",
   "name": "python3"
  },
  "language_info": {
   "codemirror_mode": {
    "name": "ipython",
    "version": 3
   },
   "file_extension": ".py",
   "mimetype": "text/x-python",
   "name": "python",
   "nbconvert_exporter": "python",
   "pygments_lexer": "ipython3",
   "version": "3.11.11"
  }
 },
 "nbformat": 4,
 "nbformat_minor": 2
}
