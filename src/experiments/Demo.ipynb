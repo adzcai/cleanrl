{
 "cells": [
  {
   "cell_type": "code",
   "execution_count": null,
   "metadata": {},
   "outputs": [],
   "source": [
    "%load_ext autoreload\n",
    "%autoreload 2"
   ]
  },
  {
   "cell_type": "markdown",
   "metadata": {},
   "source": [
    "# Testing multi catch environment"
   ]
  },
  {
   "cell_type": "code",
   "execution_count": 1,
   "metadata": {},
   "outputs": [
    {
     "name": "stdout",
     "output_type": "stream",
     "text": [
      "Timestep(state=LogState(_inner=PrevDone(_inner=EnvState(ball_x=Array(2, dtype=int32), ball_y=Array(0, dtype=int32), paddle_x=Array(2, dtype=int32), goal=Array(0, dtype=int32)), prev_done=Array(False, dtype=bool)), metrics=Metrics(current_return=Array(0., dtype=float32), current_length=Array(0, dtype=int32), episode_return=Array(0., dtype=float32), episode_length=Array(0, dtype=int32))), obs=GoalObs(obs=Array([[0., 0., 1., 0., 0.],\n",
      "       [0., 0., 0., 0., 0.],\n",
      "       [0., 0., 0., 0., 0.],\n",
      "       [0., 0., 0., 0., 0.],\n",
      "       [0., 0., 0., 0., 0.],\n",
      "       [0., 0., 0., 0., 0.],\n",
      "       [0., 0., 0., 0., 0.],\n",
      "       [0., 0., 0., 0., 0.],\n",
      "       [0., 0., 0., 0., 0.],\n",
      "       [0., 0., 1., 0., 0.]], dtype=float32), goal=Array(0, dtype=int32)), reward=Array(0., dtype=float32, weak_type=True), discount=Array(0., dtype=float32, weak_type=True), step_type=Array(1, dtype=int32), info={'metrics': Metrics(current_return=Array(0., dtype=float32), current_length=Array(0, dtype=int32), episode_return=Array(0., dtype=float32), episode_length=Array(0, dtype=int32))})\n"
     ]
    },
    {
     "data": {
      "image/png": "[encoded data removed]",
      "text/plain": [
       "<Figure size 640x480 with 1 Axes>"
      ]
     },
     "metadata": {},
     "output_type": "display_data"
    },
    {
     "name": "stdout",
     "output_type": "stream",
     "text": [
      "Timestep(state=LogState(_inner=PrevDone(_inner=EnvState(ball_x=Array(2, dtype=int32), ball_y=Array(1, dtype=int32), paddle_x=Array(3, dtype=int32), goal=Array(0, dtype=int32)), prev_done=Array(False, dtype=bool)), metrics=Metrics(current_return=Array(0., dtype=float32), current_length=Array(1, dtype=int32), episode_return=Array(0., dtype=float32), episode_length=Array(0, dtype=int32))), obs=GoalObs(obs=Array([[0., 0., 0., 0., 0.],\n",
      "       [0., 0., 1., 0., 0.],\n",
      "       [0., 0., 0., 0., 0.],\n",
      "       [0., 0., 0., 0., 0.],\n",
      "       [0., 0., 0., 0., 0.],\n",
      "       [0., 0., 0., 0., 0.],\n",
      "       [0., 0., 0., 0., 0.],\n",
      "       [0., 0., 0., 0., 0.],\n",
      "       [0., 0., 0., 0., 0.],\n",
      "       [0., 0., 0., 1., 0.]], dtype=float32), goal=Array(0, dtype=int32)), reward=Array(0., dtype=float32, weak_type=True), discount=Array(1., dtype=float32, weak_type=True), step_type=Array(2, dtype=int32), info={'metrics': Metrics(current_return=Array(0., dtype=float32), current_length=Array(1, dtype=int32), episode_return=Array(0., dtype=float32), episode_length=Array(0, dtype=int32))})\n"
     ]
    },
    {
     "data": {
      "image/png": "[encoded data removed]",
      "text/plain": [
       "<Figure size 640x480 with 1 Axes>"
      ]
     },
     "metadata": {},
     "output_type": "display_data"
    },
    {
     "name": "stdout",
     "output_type": "stream",
     "text": [
      "Timestep(state=LogState(_inner=PrevDone(_inner=EnvState(ball_x=Array(2, dtype=int32), ball_y=Array(2, dtype=int32), paddle_x=Array(4, dtype=int32), goal=Array(0, dtype=int32)), prev_done=Array(False, dtype=bool)), metrics=Metrics(current_return=Array(0., dtype=float32), current_length=Array(2, dtype=int32), episode_return=Array(0., dtype=float32), episode_length=Array(0, dtype=int32))), obs=GoalObs(obs=Array([[0., 0., 0., 0., 0.],\n",
      "       [0., 0., 0., 0., 0.],\n",
      "       [0., 0., 1., 0., 0.],\n",
      "       [0., 0., 0., 0., 0.],\n",
      "       [0., 0., 0., 0., 0.],\n",
      "       [0., 0., 0., 0., 0.],\n",
      "       [0., 0., 0., 0., 0.],\n",
      "       [0., 0., 0., 0., 0.],\n",
      "       [0., 0., 0., 0., 0.],\n",
      "       [0., 0., 0., 0., 1.]], dtype=float32), goal=Array(0, dtype=int32)), reward=Array(0., dtype=float32, weak_type=True), discount=Array(1., dtype=float32, weak_type=True), step_type=Array(2, dtype=int32), info={'metrics': Metrics(current_return=Array(0., dtype=float32), current_length=Array(2, dtype=int32), episode_return=Array(0., dtype=float32), episode_length=Array(0, dtype=int32))})\n"
     ]
    },
    {
     "data": {
      "image/png": "[encoded data removed]",
      "text/plain": [
       "<Figure size 640x480 with 1 Axes>"
      ]
     },
     "metadata": {},
     "output_type": "display_data"
    },
    {
     "name": "stdout",
     "output_type": "stream",
     "text": [
      "Timestep(state=LogState(_inner=PrevDone(_inner=EnvState(ball_x=Array(2, dtype=int32), ball_y=Array(3, dtype=int32), paddle_x=Array(4, dtype=int32), goal=Array(0, dtype=int32)), prev_done=Array(False, dtype=bool)), metrics=Metrics(current_return=Array(0., dtype=float32), current_length=Array(3, dtype=int32), episode_return=Array(0., dtype=float32), episode_length=Array(0, dtype=int32))), obs=GoalObs(obs=Array([[0., 0., 0., 0., 0.],\n",
      "       [0., 0., 0., 0., 0.],\n",
      "       [0., 0., 0., 0., 0.],\n",
      "       [0., 0., 1., 0., 0.],\n",
      "       [0., 0., 0., 0., 0.],\n",
      "       [0., 0., 0., 0., 0.],\n",
      "       [0., 0., 0., 0., 0.],\n",
      "       [0., 0., 0., 0., 0.],\n",
      "       [0., 0., 0., 0., 0.],\n",
      "       [0., 0., 0., 0., 1.]], dtype=float32), goal=Array(0, dtype=int32)), reward=Array(0., dtype=float32, weak_type=True), discount=Array(1., dtype=float32, weak_type=True), step_type=Array(2, dtype=int32), info={'metrics': Metrics(current_return=Array(0., dtype=float32), current_length=Array(3, dtype=int32), episode_return=Array(0., dtype=float32), episode_length=Array(0, dtype=int32))})\n"
     ]
    },
    {
     "data": {
      "image/png": "[encoded data removed]",
      "text/plain": [
       "<Figure size 640x480 with 1 Axes>"
      ]
     },
     "metadata": {},
     "output_type": "display_data"
    },
    {
     "name": "stdout",
     "output_type": "stream",
     "text": [
      "Timestep(state=LogState(_inner=PrevDone(_inner=EnvState(ball_x=Array(2, dtype=int32), ball_y=Array(4, dtype=int32), paddle_x=Array(4, dtype=int32), goal=Array(0, dtype=int32)), prev_done=Array(False, dtype=bool)), metrics=Metrics(current_return=Array(0., dtype=float32), current_length=Array(4, dtype=int32), episode_return=Array(0., dtype=float32), episode_length=Array(0, dtype=int32))), obs=GoalObs(obs=Array([[0., 0., 0., 0., 0.],\n",
      "       [0., 0., 0., 0., 0.],\n",
      "       [0., 0., 0., 0., 0.],\n",
      "       [0., 0., 0., 0., 0.],\n",
      "       [0., 0., 1., 0., 0.],\n",
      "       [0., 0., 0., 0., 0.],\n",
      "       [0., 0., 0., 0., 0.],\n",
      "       [0., 0., 0., 0., 0.],\n",
      "       [0., 0., 0., 0., 0.],\n",
      "       [0., 0., 0., 0., 1.]], dtype=float32), goal=Array(0, dtype=int32)), reward=Array(0., dtype=float32, weak_type=True), discount=Array(1., dtype=float32, weak_type=True), step_type=Array(2, dtype=int32), info={'metrics': Metrics(current_return=Array(0., dtype=float32), current_length=Array(4, dtype=int32), episode_return=Array(0., dtype=float32), episode_length=Array(0, dtype=int32))})\n"
     ]
    },
    {
     "data": {
      "image/png": "[encoded data removed]",
      "text/plain": [
       "<Figure size 640x480 with 1 Axes>"
      ]
     },
     "metadata": {},
     "output_type": "display_data"
    },
    {
     "name": "stdout",
     "output_type": "stream",
     "text": [
      "Timestep(state=LogState(_inner=PrevDone(_inner=EnvState(ball_x=Array(2, dtype=int32), ball_y=Array(5, dtype=int32), paddle_x=Array(3, dtype=int32), goal=Array(0, dtype=int32)), prev_done=Array(False, dtype=bool)), metrics=Metrics(current_return=Array(0., dtype=float32), current_length=Array(5, dtype=int32), episode_return=Array(0., dtype=float32), episode_length=Array(0, dtype=int32))), obs=GoalObs(obs=Array([[0., 0., 0., 0., 0.],\n",
      "       [0., 0., 0., 0., 0.],\n",
      "       [0., 0., 0., 0., 0.],\n",
      "       [0., 0., 0., 0., 0.],\n",
      "       [0., 0., 0., 0., 0.],\n",
      "       [0., 0., 1., 0., 0.],\n",
      "       [0., 0., 0., 0., 0.],\n",
      "       [0., 0., 0., 0., 0.],\n",
      "       [0., 0., 0., 0., 0.],\n",
      "       [0., 0., 0., 1., 0.]], dtype=float32), goal=Array(0, dtype=int32)), reward=Array(0., dtype=float32, weak_type=True), discount=Array(1., dtype=float32, weak_type=True), step_type=Array(2, dtype=int32), info={'metrics': Metrics(current_return=Array(0., dtype=float32), current_length=Array(5, dtype=int32), episode_return=Array(0., dtype=float32), episode_length=Array(0, dtype=int32))})\n"
     ]
    },
    {
     "data": {
      "image/png": "[encoded data removed]",
      "text/plain": [
       "<Figure size 640x480 with 1 Axes>"
      ]
     },
     "metadata": {},
     "output_type": "display_data"
    },
    {
     "name": "stdout",
     "output_type": "stream",
     "text": [
      "Timestep(state=LogState(_inner=PrevDone(_inner=EnvState(ball_x=Array(2, dtype=int32), ball_y=Array(6, dtype=int32), paddle_x=Array(2, dtype=int32), goal=Array(0, dtype=int32)), prev_done=Array(False, dtype=bool)), metrics=Metrics(current_return=Array(0., dtype=float32), current_length=Array(6, dtype=int32), episode_return=Array(0., dtype=float32), episode_length=Array(0, dtype=int32))), obs=GoalObs(obs=Array([[0., 0., 0., 0., 0.],\n",
      "       [0., 0., 0., 0., 0.],\n",
      "       [0., 0., 0., 0., 0.],\n",
      "       [0., 0., 0., 0., 0.],\n",
      "       [0., 0., 0., 0., 0.],\n",
      "       [0., 0., 0., 0., 0.],\n",
      "       [0., 0., 1., 0., 0.],\n",
      "       [0., 0., 0., 0., 0.],\n",
      "       [0., 0., 0., 0., 0.],\n",
      "       [0., 0., 1., 0., 0.]], dtype=float32), goal=Array(0, dtype=int32)), reward=Array(0., dtype=float32, weak_type=True), discount=Array(1., dtype=float32, weak_type=True), step_type=Array(2, dtype=int32), info={'metrics': Metrics(current_return=Array(0., dtype=float32), current_length=Array(6, dtype=int32), episode_return=Array(0., dtype=float32), episode_length=Array(0, dtype=int32))})\n"
     ]
    },
    {
     "data": {
      "image/png": "[encoded data removed]",
      "text/plain": [
       "<Figure size 640x480 with 1 Axes>"
      ]
     },
     "metadata": {},
     "output_type": "display_data"
    },
    {
     "name": "stdout",
     "output_type": "stream",
     "text": [
      "Timestep(state=LogState(_inner=PrevDone(_inner=EnvState(ball_x=Array(2, dtype=int32), ball_y=Array(7, dtype=int32), paddle_x=Array(3, dtype=int32), goal=Array(0, dtype=int32)), prev_done=Array(False, dtype=bool)), metrics=Metrics(current_return=Array(0., dtype=float32), current_length=Array(7, dtype=int32), episode_return=Array(0., dtype=float32), episode_length=Array(0, dtype=int32))), obs=GoalObs(obs=Array([[0., 0., 0., 0., 0.],\n",
      "       [0., 0., 0., 0., 0.],\n",
      "       [0., 0., 0., 0., 0.],\n",
      "       [0., 0., 0., 0., 0.],\n",
      "       [0., 0., 0., 0., 0.],\n",
      "       [0., 0., 0., 0., 0.],\n",
      "       [0., 0., 0., 0., 0.],\n",
      "       [0., 0., 1., 0., 0.],\n",
      "       [0., 0., 0., 0., 0.],\n",
      "       [0., 0., 0., 1., 0.]], dtype=float32), goal=Array(0, dtype=int32)), reward=Array(0., dtype=float32, weak_type=True), discount=Array(1., dtype=float32, weak_type=True), step_type=Array(2, dtype=int32), info={'metrics': Metrics(current_return=Array(0., dtype=float32), current_length=Array(7, dtype=int32), episode_return=Array(0., dtype=float32), episode_length=Array(0, dtype=int32))})\n"
     ]
    },
    {
     "data": {
      "image/png": "[encoded data removed]",
      "text/plain": [
       "<Figure size 640x480 with 1 Axes>"
      ]
     },
     "metadata": {},
     "output_type": "display_data"
    },
    {
     "name": "stdout",
     "output_type": "stream",
     "text": [
      "Timestep(state=LogState(_inner=PrevDone(_inner=EnvState(ball_x=Array(2, dtype=int32), ball_y=Array(8, dtype=int32), paddle_x=Array(4, dtype=int32), goal=Array(0, dtype=int32)), prev_done=Array(False, dtype=bool)), metrics=Metrics(current_return=Array(0., dtype=float32), current_length=Array(8, dtype=int32), episode_return=Array(0., dtype=float32), episode_length=Array(0, dtype=int32))), obs=GoalObs(obs=Array([[0., 0., 0., 0., 0.],\n",
      "       [0., 0., 0., 0., 0.],\n",
      "       [0., 0., 0., 0., 0.],\n",
      "       [0., 0., 0., 0., 0.],\n",
      "       [0., 0., 0., 0., 0.],\n",
      "       [0., 0., 0., 0., 0.],\n",
      "       [0., 0., 0., 0., 0.],\n",
      "       [0., 0., 0., 0., 0.],\n",
      "       [0., 0., 1., 0., 0.],\n",
      "       [0., 0., 0., 0., 1.]], dtype=float32), goal=Array(0, dtype=int32)), reward=Array(0., dtype=float32, weak_type=True), discount=Array(1., dtype=float32, weak_type=True), step_type=Array(2, dtype=int32), info={'metrics': Metrics(current_return=Array(0., dtype=float32), current_length=Array(8, dtype=int32), episode_return=Array(0., dtype=float32), episode_length=Array(0, dtype=int32))})\n"
     ]
    },
    {
     "data": {
      "image/png": "[encoded data removed]",
      "text/plain": [
       "<Figure size 640x480 with 1 Axes>"
      ]
     },
     "metadata": {},
     "output_type": "display_data"
    },
    {
     "name": "stdout",
     "output_type": "stream",
     "text": [
      "Timestep(state=LogState(_inner=PrevDone(_inner=EnvState(ball_x=Array(2, dtype=int32), ball_y=Array(9, dtype=int32), paddle_x=Array(4, dtype=int32), goal=Array(0, dtype=int32)), prev_done=Array(True, dtype=bool)), metrics=Metrics(current_return=Array(0., dtype=float32), current_length=Array(0, dtype=int32), episode_return=Array(1., dtype=float32), episode_length=Array(9, dtype=int32))), obs=GoalObs(obs=Array([[0., 0., 0., 0., 0.],\n",
      "       [0., 0., 0., 0., 0.],\n",
      "       [0., 0., 0., 0., 0.],\n",
      "       [0., 0., 0., 0., 0.],\n",
      "       [0., 0., 0., 0., 0.],\n",
      "       [0., 0., 0., 0., 0.],\n",
      "       [0., 0., 0., 0., 0.],\n",
      "       [0., 0., 0., 0., 0.],\n",
      "       [0., 0., 0., 0., 0.],\n",
      "       [0., 0., 1., 0., 1.]], dtype=float32), goal=Array(0, dtype=int32)), reward=Array(1., dtype=float32, weak_type=True), discount=Array(0., dtype=float32, weak_type=True), step_type=Array(3, dtype=int32), info={'metrics': Metrics(current_return=Array(0., dtype=float32), current_length=Array(0, dtype=int32), episode_return=Array(1., dtype=float32), episode_length=Array(9, dtype=int32))})\n"
     ]
    },
    {
     "data": {
      "image/png": "[encoded data removed]",
      "text/plain": [
       "<Figure size 640x480 with 1 Axes>"
      ]
     },
     "metadata": {},
     "output_type": "display_data"
    },
    {
     "name": "stdout",
     "output_type": "stream",
     "text": [
      "Timestep(state=LogState(_inner=PrevDone(_inner=EnvState(ball_x=Array(1, dtype=int32), ball_y=Array(0, dtype=int32), paddle_x=Array(2, dtype=int32), goal=Array(0, dtype=int32)), prev_done=Array(False, dtype=bool)), metrics=Metrics(current_return=Array(0., dtype=float32), current_length=Array(1, dtype=int32), episode_return=Array(0., dtype=float32), episode_length=Array(9, dtype=int32))), obs=GoalObs(obs=Array([[0., 1., 0., 0., 0.],\n",
      "       [0., 0., 0., 0., 0.],\n",
      "       [0., 0., 0., 0., 0.],\n",
      "       [0., 0., 0., 0., 0.],\n",
      "       [0., 0., 0., 0., 0.],\n",
      "       [0., 0., 0., 0., 0.],\n",
      "       [0., 0., 0., 0., 0.],\n",
      "       [0., 0., 0., 0., 0.],\n",
      "       [0., 0., 0., 0., 0.],\n",
      "       [0., 0., 1., 0., 0.]], dtype=float32), goal=Array(0, dtype=int32)), reward=Array(0., dtype=float32, weak_type=True), discount=Array(0., dtype=float32, weak_type=True), step_type=Array(1, dtype=int32), info={'metrics': Metrics(current_return=Array(0., dtype=float32), current_length=Array(1, dtype=int32), episode_return=Array(0., dtype=float32), episode_length=Array(9, dtype=int32))})\n"
     ]
    },
    {
     "data": {
      "image/png": "[encoded data removed]",
      "text/plain": [
       "<Figure size 640x480 with 1 Axes>"
      ]
     },
     "metadata": {},
     "output_type": "display_data"
    },
    {
     "name": "stdout",
     "output_type": "stream",
     "text": [
      "Timestep(state=LogState(_inner=PrevDone(_inner=EnvState(ball_x=Array(1, dtype=int32), ball_y=Array(1, dtype=int32), paddle_x=Array(2, dtype=int32), goal=Array(0, dtype=int32)), prev_done=Array(False, dtype=bool)), metrics=Metrics(current_return=Array(0., dtype=float32), current_length=Array(2, dtype=int32), episode_return=Array(0., dtype=float32), episode_length=Array(9, dtype=int32))), obs=GoalObs(obs=Array([[0., 0., 0., 0., 0.],\n",
      "       [0., 1., 0., 0., 0.],\n",
      "       [0., 0., 0., 0., 0.],\n",
      "       [0., 0., 0., 0., 0.],\n",
      "       [0., 0., 0., 0., 0.],\n",
      "       [0., 0., 0., 0., 0.],\n",
      "       [0., 0., 0., 0., 0.],\n",
      "       [0., 0., 0., 0., 0.],\n",
      "       [0., 0., 0., 0., 0.],\n",
      "       [0., 0., 1., 0., 0.]], dtype=float32), goal=Array(0, dtype=int32)), reward=Array(0., dtype=float32, weak_type=True), discount=Array(1., dtype=float32, weak_type=True), step_type=Array(2, dtype=int32), info={'metrics': Metrics(current_return=Array(0., dtype=float32), current_length=Array(2, dtype=int32), episode_return=Array(0., dtype=float32), episode_length=Array(9, dtype=int32))})\n"
     ]
    },
    {
     "data": {
      "image/png": "[encoded data removed]",
      "text/plain": [
       "<Figure size 640x480 with 1 Axes>"
      ]
     },
     "metadata": {},
     "output_type": "display_data"
    }
   ],
   "source": [
    "import dm_env.specs as specs\n",
    "import jax\n",
    "import jax.numpy as jnp\n",
    "import jax.random as jr\n",
    "import matplotlib.pyplot as plt\n",
    "from log_util import tree_slice\n",
    "\n",
    "from wrappers.auto_reset import auto_reset_wrapper\n",
    "from wrappers.log import log_wrapper\n",
    "from wrappers.multi_catch import make_multi_catch, visualize_catch\n",
    "\n",
    "env, params = make_multi_catch(num_goals=1)\n",
    "env = auto_reset_wrapper(env)\n",
    "env = log_wrapper(env)\n",
    "key = jr.key(0)\n",
    "\n",
    "key, key_ = jr.split(key)\n",
    "timestep = env.reset(params, key=key_)\n",
    "\n",
    "action_space: specs.DiscreteArray = env.action_space(params)\n",
    "\n",
    "for _ in range(12):\n",
    "    print(timestep)\n",
    "\n",
    "    out = visualize_catch(env_states=tree_slice(timestep.state, jnp.newaxis))[0]\n",
    "    out = jnp.transpose(out, (1, 2, 0))\n",
    "    plt.imshow(out)\n",
    "    plt.grid(True)\n",
    "    plt.gca().xaxis.set_major_locator(plt.MultipleLocator(1))\n",
    "    plt.gca().yaxis.set_major_locator(plt.MultipleLocator(1))\n",
    "    plt.show()\n",
    "\n",
    "    key, key_a, key_step = jr.split(key, 3)\n",
    "\n",
    "    timestep = env.step(\n",
    "        timestep.state,\n",
    "        jr.randint(key_a, (), 0, action_space.num_values),\n",
    "        params,\n",
    "        key=key_step,\n",
    "    )"
   ]
  },
  {
   "cell_type": "markdown",
   "metadata": {},
   "source": [
    "# Testing sum tree"
   ]
  },
  {
   "cell_type": "code",
   "execution_count": 2,
   "metadata": {},
   "outputs": [
    {
     "name": "stdout",
     "output_type": "stream",
     "text": [
      "Level 0:                                                            0.00                                                 \n",
      "Level 1:                                0.00                                                    0.00                     \n",
      "Level 2:                  0.00                        0.00                        0.00                        0.00       \n",
      "Level 3:           0.00          0.00          0.00          0.00          0.00          0.00          0.00          0.00\n",
      "Level 4:    0.00   0.00   0.00   0.00   0.00   0.00   0.00   0.00   0.00   0.00   0.00   0.00   0.00   0.00   0.00   0.00\n",
      "----------------------------------------------------------------------------------------------------------------\n",
      "Leaf values: [0. 0. 0. 0. 0. 0. 0. 0. 0. 0.]\n"
     ]
    }
   ],
   "source": [
    "from prioritized_buffer import SumTree\n",
    "\n",
    "sum_tree = SumTree.new(10)\n",
    "state = sum_tree.init()\n",
    "sum_tree.pprint(state)"
   ]
  },
  {
   "cell_type": "code",
   "execution_count": 3,
   "metadata": {},
   "outputs": [
    {
     "name": "stdout",
     "output_type": "stream",
     "text": [
      "Level 0:                                                           10.00                                                 \n",
      "Level 1:                               10.00                                                    0.00                     \n",
      "Level 2:                  0.00                       10.00                        0.00                        0.00       \n",
      "Level 3:           0.00          0.00         10.00          0.00          0.00          0.00          0.00          0.00\n",
      "Level 4:    0.00   0.00   0.00   0.00  10.00   0.00   0.00   0.00   0.00   0.00   0.00   0.00   0.00   0.00   0.00   0.00\n",
      "----------------------------------------------------------------------------------------------------------------\n",
      "Leaf values: [ 0.  0.  0.  0. 10.  0.  0.  0.  0.  0.]\n"
     ]
    }
   ],
   "source": [
    "state = sum_tree.update(state, jnp.asarray([4]), jnp.asarray([10]))\n",
    "sum_tree.pprint(state)"
   ]
  },
  {
   "cell_type": "code",
   "execution_count": 4,
   "metadata": {},
   "outputs": [
    {
     "name": "stdout",
     "output_type": "stream",
     "text": [
      "Level 0:                                                           41.00                                                 \n",
      "Level 1:                               17.00                                                   24.00                     \n",
      "Level 2:                  0.00                       17.00                       24.00                        0.00       \n",
      "Level 3:           0.00          0.00         11.00          6.00         24.00          0.00          0.00          0.00\n",
      "Level 4:    0.00   0.00   0.00   0.00  10.00   1.00   2.00   4.00   8.00  16.00   0.00   0.00   0.00   0.00   0.00   0.00\n",
      "----------------------------------------------------------------------------------------------------------------\n",
      "Leaf values: [ 0.  0.  0.  0. 10.  1.  2.  4.  8. 16.]\n"
     ]
    }
   ],
   "source": [
    "state = sum_tree.update(state, jnp.arange(5, 10), jnp.power(2, jnp.arange(5)))\n",
    "sum_tree.pprint(state)"
   ]
  },
  {
   "cell_type": "code",
   "execution_count": 5,
   "metadata": {},
   "outputs": [
    {
     "name": "stdout",
     "output_type": "stream",
     "text": [
      "Level 0:                                                           42.00                                                 \n",
      "Level 1:                               18.00                                                   24.00                     \n",
      "Level 2:                  1.00                       17.00                       24.00                        0.00       \n",
      "Level 3:           1.00          0.00         11.00          6.00         24.00          0.00          0.00          0.00\n",
      "Level 4:    1.00   0.00   0.00   0.00  10.00   1.00   2.00   4.00   8.00  16.00   0.00   0.00   0.00   0.00   0.00   0.00\n",
      "----------------------------------------------------------------------------------------------------------------\n",
      "Leaf values: [ 1.  0.  0.  0. 10.  1.  2.  4.  8. 16.]\n"
     ]
    }
   ],
   "source": [
    "state = sum_tree.update(state, jnp.zeros(5, int), jnp.power(2, jnp.arange(5)))\n",
    "sum_tree.pprint(state)"
   ]
  },
  {
   "cell_type": "code",
   "execution_count": 6,
   "metadata": {},
   "outputs": [
    {
     "data": {
      "image/png": "[encoded data removed]",
      "text/plain": [
       "<Figure size 640x480 with 1 Axes>"
      ]
     },
     "metadata": {},
     "output_type": "display_data"
    }
   ],
   "source": [
    "key, key_ = jr.split(key)\n",
    "idx, priorities = jax.vmap(sum_tree.sample, (None, 0))(state, jr.split(key_, 10000))\n",
    "plt.figure()\n",
    "plt.hist(idx, bins=10, density=True)\n",
    "plt.xlabel(\"Priority\")\n",
    "plt.ylabel(\"Count\")\n",
    "plt.title(\"Distribution of Sampled Priorities\")\n",
    "plt.show()"
   ]
  },
  {
   "cell_type": "code",
   "execution_count": 7,
   "metadata": {},
   "outputs": [
    {
     "data": {
      "text/plain": [
       "Array([-0.00100952,  0.        ,  0.        ,  0.        , -0.00519525,\n",
       "       -0.00070952, -0.00111905, -0.0033381 ,  0.00182381,  0.00954762],      dtype=float32)"
      ]
     },
     "execution_count": 7,
     "metadata": {},
     "output_type": "execute_result"
    }
   ],
   "source": [
    "leaves = state.nodes[sum_tree.leaf_idx : sum_tree.leaf_idx + 10]\n",
    "(jnp.bincount(idx) / 10000) - (leaves / leaves.sum())"
   ]
  },
  {
   "cell_type": "markdown",
   "metadata": {},
   "source": [
    "# Testing prioritized buffer"
   ]
  },
  {
   "cell_type": "code",
   "execution_count": 8,
   "metadata": {},
   "outputs": [],
   "source": [
    "from prioritized_buffer import PrioritizedBuffer\n",
    "\n",
    "buffer = PrioritizedBuffer.new(batch_size=4, max_time=10, horizon=5)"
   ]
  },
  {
   "cell_type": "code",
   "execution_count": 9,
   "metadata": {},
   "outputs": [
    {
     "data": {
      "text/plain": [
       "BufferState(data={'foo': Array([[[0., 0.],\n",
       "        [0., 0.],\n",
       "        [0., 0.],\n",
       "        [0., 0.],\n",
       "        [0., 0.],\n",
       "        [0., 0.],\n",
       "        [0., 0.],\n",
       "        [0., 0.],\n",
       "        [0., 0.],\n",
       "        [0., 0.]],\n",
       "\n",
       "       [[0., 0.],\n",
       "        [0., 0.],\n",
       "        [0., 0.],\n",
       "        [0., 0.],\n",
       "        [0., 0.],\n",
       "        [0., 0.],\n",
       "        [0., 0.],\n",
       "        [0., 0.],\n",
       "        [0., 0.],\n",
       "        [0., 0.]],\n",
       "\n",
       "       [[0., 0.],\n",
       "        [0., 0.],\n",
       "        [0., 0.],\n",
       "        [0., 0.],\n",
       "        [0., 0.],\n",
       "        [0., 0.],\n",
       "        [0., 0.],\n",
       "        [0., 0.],\n",
       "        [0., 0.],\n",
       "        [0., 0.]],\n",
       "\n",
       "       [[0., 0.],\n",
       "        [0., 0.],\n",
       "        [0., 0.],\n",
       "        [0., 0.],\n",
       "        [0., 0.],\n",
       "        [0., 0.],\n",
       "        [0., 0.],\n",
       "        [0., 0.],\n",
       "        [0., 0.],\n",
       "        [0., 0.]]], dtype=float32)}, pos=Array(0, dtype=uint32), priority_state=SumTreeState(nodes=Array([0., 0., 0., 0., 0., 0., 0., 0., 0., 0., 0., 0., 0., 0., 0., 0., 0.,\n",
       "       0., 0., 0., 0., 0., 0., 0., 0., 0., 0., 0., 0., 0., 0., 0., 0., 0.,\n",
       "       0., 0., 0., 0., 0., 0., 0., 0., 0., 0., 0., 0., 0., 0., 0., 0., 0.,\n",
       "       0., 0., 0., 0., 0., 0., 0., 0., 0., 0., 0., 0., 0., 0., 0., 0., 0.,\n",
       "       0., 0., 0., 0., 0., 0., 0., 0., 0., 0., 0., 0., 0., 0., 0., 0., 0.,\n",
       "       0., 0., 0., 0., 0., 0., 0., 0., 0., 0., 0., 0., 0., 0., 0., 0., 0.,\n",
       "       0., 0., 0., 0., 0., 0., 0., 0., 0., 0., 0., 0., 0., 0., 0., 0., 0.,\n",
       "       0., 0., 0., 0., 0., 0., 0., 0.], dtype=float32), max_priority=Array(1., dtype=float32), step=Array(0, dtype=uint32)))"
      ]
     },
     "execution_count": 9,
     "metadata": {},
     "output_type": "execute_result"
    }
   ],
   "source": [
    "buffer_state = buffer.init({\"foo\": jnp.empty(2)})\n",
    "buffer_state"
   ]
  },
  {
   "cell_type": "code",
   "execution_count": 10,
   "metadata": {},
   "outputs": [
    {
     "data": {
      "text/plain": [
       "BufferState(data={'foo': Array([[[ 0.,  1.],\n",
       "        [ 2.,  3.],\n",
       "        [ 4.,  5.],\n",
       "        [ 0.,  0.],\n",
       "        [ 0.,  0.],\n",
       "        [ 0.,  0.],\n",
       "        [ 0.,  0.],\n",
       "        [ 0.,  0.],\n",
       "        [ 0.,  0.],\n",
       "        [ 0.,  0.]],\n",
       "\n",
       "       [[ 6.,  7.],\n",
       "        [ 8.,  9.],\n",
       "        [10., 11.],\n",
       "        [ 0.,  0.],\n",
       "        [ 0.,  0.],\n",
       "        [ 0.,  0.],\n",
       "        [ 0.,  0.],\n",
       "        [ 0.,  0.],\n",
       "        [ 0.,  0.],\n",
       "        [ 0.,  0.]],\n",
       "\n",
       "       [[12., 13.],\n",
       "        [14., 15.],\n",
       "        [16., 17.],\n",
       "        [ 0.,  0.],\n",
       "        [ 0.,  0.],\n",
       "        [ 0.,  0.],\n",
       "        [ 0.,  0.],\n",
       "        [ 0.,  0.],\n",
       "        [ 0.,  0.],\n",
       "        [ 0.,  0.]],\n",
       "\n",
       "       [[18., 19.],\n",
       "        [20., 21.],\n",
       "        [22., 23.],\n",
       "        [ 0.,  0.],\n",
       "        [ 0.,  0.],\n",
       "        [ 0.,  0.],\n",
       "        [ 0.,  0.],\n",
       "        [ 0.,  0.],\n",
       "        [ 0.,  0.],\n",
       "        [ 0.,  0.]]], dtype=float32)}, pos=Array(3, dtype=uint32), priority_state=SumTreeState(nodes=Array([4., 4., 0., 2., 2., 0., 0., 1., 1., 1., 1., 0., 0., 0., 0., 1., 0.,\n",
       "       1., 0., 0., 1., 0., 1., 0., 0., 0., 0., 0., 0., 0., 0., 1., 0., 0.,\n",
       "       0., 0., 1., 0., 0., 0., 0., 1., 0., 0., 0., 0., 1., 0., 0., 0., 0.,\n",
       "       0., 0., 0., 0., 0., 0., 0., 0., 0., 0., 0., 0., 1., 0., 0., 0., 0.,\n",
       "       0., 0., 0., 0., 0., 1., 0., 0., 0., 0., 0., 0., 0., 0., 0., 1., 0.,\n",
       "       0., 0., 0., 0., 0., 0., 0., 0., 1., 0., 0., 0., 0., 0., 0., 0., 0.,\n",
       "       0., 0., 0., 0., 0., 0., 0., 0., 0., 0., 0., 0., 0., 0., 0., 0., 0.,\n",
       "       0., 0., 0., 0., 0., 0., 0., 0.], dtype=float32), max_priority=Array(1., dtype=float32), step=Array(1, dtype=uint32)))"
      ]
     },
     "execution_count": 10,
     "metadata": {},
     "output_type": "execute_result"
    }
   ],
   "source": [
    "buffer_state = buffer.add(buffer_state, {\"foo\": jnp.arange(24).reshape(4, 3, 2)})\n",
    "buffer_state"
   ]
  },
  {
   "cell_type": "code",
   "execution_count": 11,
   "metadata": {},
   "outputs": [
    {
     "data": {
      "text/plain": [
       "Array(0, dtype=uint32)"
      ]
     },
     "execution_count": 11,
     "metadata": {},
     "output_type": "execute_result"
    }
   ],
   "source": [
    "buffer.available_pos(buffer_state)"
   ]
  },
  {
   "cell_type": "code",
   "execution_count": 12,
   "metadata": {},
   "outputs": [
    {
     "name": "stdout",
     "output_type": "stream",
     "text": [
      "Level 0:                                                                                                                                                                                                                                    4.00                                                                                                                                                                                                                         \n",
      "Level 1:                                                                                                                    4.00                                                                                                                                                                                                                            0.00                                                                                                         \n",
      "Level 2:                                                            2.00                                                                                                            2.00                                                                                                            0.00                                                                                                            0.00                                                 \n",
      "Level 3:                                1.00                                                    1.00                                                    1.00                                                    1.00                                                    0.00                                                    0.00                                                    0.00                                                    0.00                     \n",
      "Level 4:                  1.00                        0.00                        1.00                        0.00                        0.00                        1.00                        0.00                        1.00                        0.00                        0.00                        0.00                        0.00                        0.00                        0.00                        0.00                        0.00       \n",
      "Level 5:           1.00          0.00          0.00          0.00          0.00          1.00          0.00          0.00          0.00          0.00          1.00          0.00          0.00          0.00          0.00          1.00          0.00          0.00          0.00          0.00          0.00          0.00          0.00          0.00          0.00          0.00          0.00          0.00          0.00          0.00          0.00          0.00\n",
      "Level 6:    1.00   0.00   0.00   0.00   0.00   0.00   0.00   0.00   0.00   0.00   1.00   0.00   0.00   0.00   0.00   0.00   0.00   0.00   0.00   0.00   1.00   0.00   0.00   0.00   0.00   0.00   0.00   0.00   0.00   0.00   1.00   0.00   0.00   0.00   0.00   0.00   0.00   0.00   0.00   0.00   0.00   0.00   0.00   0.00   0.00   0.00   0.00   0.00   0.00   0.00   0.00   0.00   0.00   0.00   0.00   0.00   0.00   0.00   0.00   0.00   0.00   0.00   0.00   0.00\n",
      "----------------------------------------------------------------------------------------------------------------------------------------------------------------------------------------------------------------------------------------------------------------------------------------------------------------------------------------------------------------------------------------------------------------------------------------------------------------\n",
      "Leaf values: [1. 0. 0. 0. 0. 0. 0. 0. 0. 0. 1. 0. 0. 0. 0. 0. 0. 0. 0. 0. 1. 0. 0. 0.\n",
      " 0. 0. 0. 0. 0. 0. 1. 0. 0. 0. 0. 0. 0. 0. 0. 0.]\n"
     ]
    }
   ],
   "source": [
    "buffer.priority_tree.pprint(buffer_state.priority_state)"
   ]
  },
  {
   "cell_type": "code",
   "execution_count": 13,
   "metadata": {},
   "outputs": [
    {
     "name": "stdout",
     "output_type": "stream",
     "text": [
      "Level 0:                                                                                                                                                                                                                                   11.00                                                                                                                                                                                                                         \n",
      "Level 1:                                                                                                                   11.00                                                                                                                                                                                                                            0.00                                                                                                         \n",
      "Level 2:                                                            9.00                                                                                                            2.00                                                                                                            0.00                                                                                                            0.00                                                 \n",
      "Level 3:                                8.00                                                    1.00                                                    1.00                                                    1.00                                                    0.00                                                    0.00                                                    0.00                                                    0.00                     \n",
      "Level 4:                  1.00                        7.00                        1.00                        0.00                        0.00                        1.00                        0.00                        1.00                        0.00                        0.00                        0.00                        0.00                        0.00                        0.00                        0.00                        0.00       \n",
      "Level 5:           1.00          0.00          3.00          4.00          0.00          1.00          0.00          0.00          0.00          0.00          1.00          0.00          0.00          0.00          0.00          1.00          0.00          0.00          0.00          0.00          0.00          0.00          0.00          0.00          0.00          0.00          0.00          0.00          0.00          0.00          0.00          0.00\n",
      "Level 6:    1.00   0.00   0.00   0.00   1.00   2.00   4.00   0.00   0.00   0.00   1.00   0.00   0.00   0.00   0.00   0.00   0.00   0.00   0.00   0.00   1.00   0.00   0.00   0.00   0.00   0.00   0.00   0.00   0.00   0.00   1.00   0.00   0.00   0.00   0.00   0.00   0.00   0.00   0.00   0.00   0.00   0.00   0.00   0.00   0.00   0.00   0.00   0.00   0.00   0.00   0.00   0.00   0.00   0.00   0.00   0.00   0.00   0.00   0.00   0.00   0.00   0.00   0.00   0.00\n",
      "----------------------------------------------------------------------------------------------------------------------------------------------------------------------------------------------------------------------------------------------------------------------------------------------------------------------------------------------------------------------------------------------------------------------------------------------------------------\n",
      "Leaf values: [1. 0. 0. 0. 1. 2. 4. 0. 0. 0. 1. 0. 0. 0. 0. 0. 0. 0. 0. 0. 1. 0. 0. 0.\n",
      " 0. 0. 0. 0. 0. 0. 1. 0. 0. 0. 0. 0. 0. 0. 0. 0.]\n"
     ]
    }
   ],
   "source": [
    "buffer_state = buffer.set_priorities(\n",
    "    buffer_state, jnp.arange(3) + 4, jnp.power(2, jnp.arange(3))\n",
    ")\n",
    "buffer.priority_tree.pprint(buffer_state.priority_state)\n",
    "# technically this should break"
   ]
  },
  {
   "cell_type": "code",
   "execution_count": 14,
   "metadata": {},
   "outputs": [
    {
     "data": {
      "text/plain": [
       "BufferState(data={'foo': Array([[[ 0.,  1.],\n",
       "        [ 2.,  3.],\n",
       "        [ 4.,  5.],\n",
       "        [24., 25.],\n",
       "        [26., 27.],\n",
       "        [28., 29.],\n",
       "        [ 0.,  0.],\n",
       "        [ 0.,  0.],\n",
       "        [ 0.,  0.],\n",
       "        [ 0.,  0.]],\n",
       "\n",
       "       [[ 6.,  7.],\n",
       "        [ 8.,  9.],\n",
       "        [10., 11.],\n",
       "        [30., 31.],\n",
       "        [32., 33.],\n",
       "        [34., 35.],\n",
       "        [ 0.,  0.],\n",
       "        [ 0.,  0.],\n",
       "        [ 0.,  0.],\n",
       "        [ 0.,  0.]],\n",
       "\n",
       "       [[12., 13.],\n",
       "        [14., 15.],\n",
       "        [16., 17.],\n",
       "        [36., 37.],\n",
       "        [38., 39.],\n",
       "        [40., 41.],\n",
       "        [ 0.,  0.],\n",
       "        [ 0.,  0.],\n",
       "        [ 0.,  0.],\n",
       "        [ 0.,  0.]],\n",
       "\n",
       "       [[18., 19.],\n",
       "        [20., 21.],\n",
       "        [22., 23.],\n",
       "        [42., 43.],\n",
       "        [44., 45.],\n",
       "        [46., 47.],\n",
       "        [ 0.,  0.],\n",
       "        [ 0.,  0.],\n",
       "        [ 0.,  0.],\n",
       "        [ 0.,  0.]]], dtype=float32)}, pos=Array(6, dtype=uint32), priority_state=SumTreeState(nodes=Array([39., 39.,  0., 23., 16.,  0.,  0., 15.,  8.,  8.,  8.,  0.,  0.,\n",
       "        0.,  0.,  8.,  7.,  8.,  0.,  0.,  8.,  0.,  8.,  0.,  0.,  0.,\n",
       "        0.,  0.,  0.,  0.,  0.,  8.,  0.,  3.,  4.,  0.,  8.,  0.,  0.,\n",
       "        0.,  0.,  8.,  0.,  0.,  0.,  0.,  8.,  0.,  0.,  0.,  0.,  0.,\n",
       "        0.,  0.,  0.,  0.,  0.,  0.,  0.,  0.,  0.,  0.,  0.,  4.,  4.,\n",
       "        0.,  0.,  1.,  2.,  4.,  0.,  0.,  0.,  4.,  4.,  0.,  0.,  0.,\n",
       "        0.,  0.,  0.,  0.,  0.,  4.,  4.,  0.,  0.,  0.,  0.,  0.,  0.,\n",
       "        0.,  0.,  4.,  4.,  0.,  0.,  0.,  0.,  0.,  0.,  0.,  0.,  0.,\n",
       "        0.,  0.,  0.,  0.,  0.,  0.,  0.,  0.,  0.,  0.,  0.,  0.,  0.,\n",
       "        0.,  0.,  0.,  0.,  0.,  0.,  0.,  0.,  0.,  0.], dtype=float32), max_priority=Array(4., dtype=float32), step=Array(3, dtype=uint32)))"
      ]
     },
     "execution_count": 14,
     "metadata": {},
     "output_type": "execute_result"
    }
   ],
   "source": [
    "buffer_state = buffer.add(buffer_state, {\"foo\": jnp.arange(24).reshape(4, 3, 2) + 24})\n",
    "buffer_state"
   ]
  },
  {
   "cell_type": "code",
   "execution_count": 15,
   "metadata": {},
   "outputs": [
    {
     "name": "stdout",
     "output_type": "stream",
     "text": [
      "Level 0:                                                                                                                                                                                                                                   39.00                                                                                                                                                                                                                         \n",
      "Level 1:                                                                                                                   39.00                                                                                                                                                                                                                            0.00                                                                                                         \n",
      "Level 2:                                                           23.00                                                                                                           16.00                                                                                                            0.00                                                                                                            0.00                                                 \n",
      "Level 3:                               15.00                                                    8.00                                                    8.00                                                    8.00                                                    0.00                                                    0.00                                                    0.00                                                    0.00                     \n",
      "Level 4:                  8.00                        7.00                        8.00                        0.00                        0.00                        8.00                        0.00                        8.00                        0.00                        0.00                        0.00                        0.00                        0.00                        0.00                        0.00                        0.00       \n",
      "Level 5:           8.00          0.00          3.00          4.00          0.00          8.00          0.00          0.00          0.00          0.00          8.00          0.00          0.00          0.00          0.00          8.00          0.00          0.00          0.00          0.00          0.00          0.00          0.00          0.00          0.00          0.00          0.00          0.00          0.00          0.00          0.00          0.00\n",
      "Level 6:    4.00   4.00   0.00   0.00   1.00   2.00   4.00   0.00   0.00   0.00   4.00   4.00   0.00   0.00   0.00   0.00   0.00   0.00   0.00   0.00   4.00   4.00   0.00   0.00   0.00   0.00   0.00   0.00   0.00   0.00   4.00   4.00   0.00   0.00   0.00   0.00   0.00   0.00   0.00   0.00   0.00   0.00   0.00   0.00   0.00   0.00   0.00   0.00   0.00   0.00   0.00   0.00   0.00   0.00   0.00   0.00   0.00   0.00   0.00   0.00   0.00   0.00   0.00   0.00\n",
      "----------------------------------------------------------------------------------------------------------------------------------------------------------------------------------------------------------------------------------------------------------------------------------------------------------------------------------------------------------------------------------------------------------------------------------------------------------------\n",
      "Leaf values: [4. 4. 0. 0. 1. 2. 4. 0. 0. 0. 4. 4. 0. 0. 0. 0. 0. 0. 0. 0. 4. 4. 0. 0.\n",
      " 0. 0. 0. 0. 0. 0. 4. 4. 0. 0. 0. 0. 0. 0. 0. 0.]\n"
     ]
    }
   ],
   "source": [
    "buffer.priority_tree.pprint(buffer_state.priority_state)"
   ]
  },
  {
   "cell_type": "code",
   "execution_count": 16,
   "metadata": {},
   "outputs": [
    {
     "data": {
      "text/plain": [
       "BufferState(data={'foo': Array([[[ 0.,  1.],\n",
       "        [ 2.,  3.],\n",
       "        [ 4.,  5.],\n",
       "        [24., 25.],\n",
       "        [26., 27.],\n",
       "        [28., 29.],\n",
       "        [48., 49.],\n",
       "        [50., 51.],\n",
       "        [52., 53.],\n",
       "        [ 0.,  0.]],\n",
       "\n",
       "       [[ 6.,  7.],\n",
       "        [ 8.,  9.],\n",
       "        [10., 11.],\n",
       "        [30., 31.],\n",
       "        [32., 33.],\n",
       "        [34., 35.],\n",
       "        [54., 55.],\n",
       "        [56., 57.],\n",
       "        [58., 59.],\n",
       "        [ 0.,  0.]],\n",
       "\n",
       "       [[12., 13.],\n",
       "        [14., 15.],\n",
       "        [16., 17.],\n",
       "        [36., 37.],\n",
       "        [38., 39.],\n",
       "        [40., 41.],\n",
       "        [60., 61.],\n",
       "        [62., 63.],\n",
       "        [64., 65.],\n",
       "        [ 0.,  0.]],\n",
       "\n",
       "       [[18., 19.],\n",
       "        [20., 21.],\n",
       "        [22., 23.],\n",
       "        [42., 43.],\n",
       "        [44., 45.],\n",
       "        [46., 47.],\n",
       "        [66., 67.],\n",
       "        [68., 69.],\n",
       "        [70., 71.],\n",
       "        [ 0.,  0.]]], dtype=float32)}, pos=Array(9, dtype=uint32), priority_state=SumTreeState(nodes=Array([86., 74., 12., 46., 28., 12.,  0., 26., 20., 16., 12., 12.,  0.,\n",
       "        0.,  0., 16., 10.,  8., 12.,  0., 16.,  4.,  8., 12.,  0.,  0.,\n",
       "        0.,  0.,  0.,  0.,  0.,  8.,  8.,  6.,  4.,  0.,  8.,  8.,  4.,\n",
       "        0.,  0.,  8.,  8.,  4.,  0.,  0.,  8.,  8.,  4.,  0.,  0.,  0.,\n",
       "        0.,  0.,  0.,  0.,  0.,  0.,  0.,  0.,  0.,  0.,  0.,  4.,  4.,\n",
       "        4.,  4.,  4.,  2.,  4.,  0.,  0.,  0.,  4.,  4.,  4.,  4.,  4.,\n",
       "        0.,  0.,  0.,  0.,  0.,  4.,  4.,  4.,  4.,  4.,  0.,  0.,  0.,\n",
       "        0.,  0.,  4.,  4.,  4.,  4.,  4.,  0.,  0.,  0.,  0.,  0.,  0.,\n",
       "        0.,  0.,  0.,  0.,  0.,  0.,  0.,  0.,  0.,  0.,  0.,  0.,  0.,\n",
       "        0.,  0.,  0.,  0.,  0.,  0.,  0.,  0.,  0.,  0.], dtype=float32), max_priority=Array(4., dtype=float32), step=Array(4, dtype=uint32)))"
      ]
     },
     "execution_count": 16,
     "metadata": {},
     "output_type": "execute_result"
    }
   ],
   "source": [
    "buffer_state = buffer.add(buffer_state, {\"foo\": jnp.arange(24).reshape(4, 3, 2) + 48})\n",
    "buffer_state"
   ]
  },
  {
   "cell_type": "code",
   "execution_count": 17,
   "metadata": {},
   "outputs": [
    {
     "name": "stdout",
     "output_type": "stream",
     "text": [
      "Level 0:                                                                                                                                                                                                                                   86.00                                                                                                                                                                                                                         \n",
      "Level 1:                                                                                                                   74.00                                                                                                                                                                                                                           12.00                                                                                                         \n",
      "Level 2:                                                           46.00                                                                                                           28.00                                                                                                           12.00                                                                                                            0.00                                                 \n",
      "Level 3:                               26.00                                                   20.00                                                   16.00                                                   12.00                                                   12.00                                                    0.00                                                    0.00                                                    0.00                     \n",
      "Level 4:                 16.00                       10.00                        8.00                       12.00                        0.00                       16.00                        4.00                        8.00                       12.00                        0.00                        0.00                        0.00                        0.00                        0.00                        0.00                        0.00       \n",
      "Level 5:           8.00          8.00          6.00          4.00          0.00          8.00          8.00          4.00          0.00          0.00          8.00          8.00          4.00          0.00          0.00          8.00          8.00          4.00          0.00          0.00          0.00          0.00          0.00          0.00          0.00          0.00          0.00          0.00          0.00          0.00          0.00          0.00\n",
      "Level 6:    4.00   4.00   4.00   4.00   4.00   2.00   4.00   0.00   0.00   0.00   4.00   4.00   4.00   4.00   4.00   0.00   0.00   0.00   0.00   0.00   4.00   4.00   4.00   4.00   4.00   0.00   0.00   0.00   0.00   0.00   4.00   4.00   4.00   4.00   4.00   0.00   0.00   0.00   0.00   0.00   0.00   0.00   0.00   0.00   0.00   0.00   0.00   0.00   0.00   0.00   0.00   0.00   0.00   0.00   0.00   0.00   0.00   0.00   0.00   0.00   0.00   0.00   0.00   0.00\n",
      "----------------------------------------------------------------------------------------------------------------------------------------------------------------------------------------------------------------------------------------------------------------------------------------------------------------------------------------------------------------------------------------------------------------------------------------------------------------\n",
      "Leaf values: [4. 4. 4. 4. 4. 2. 4. 0. 0. 0. 4. 4. 4. 4. 4. 0. 0. 0. 0. 0. 4. 4. 4. 4.\n",
      " 4. 0. 0. 0. 0. 0. 4. 4. 4. 4. 4. 0. 0. 0. 0. 0.]\n"
     ]
    }
   ],
   "source": [
    "buffer.priority_tree.pprint(buffer_state.priority_state)"
   ]
  },
  {
   "cell_type": "markdown",
   "metadata": {},
   "source": [
    "# Test bootstrapping"
   ]
  },
  {
   "cell_type": "code",
   "execution_count": 18,
   "metadata": {},
   "outputs": [
    {
     "name": "stdout",
     "output_type": "stream",
     "text": [
      "No file specified for image dict.\n",
      "Using: /Users/adzcai/Developer/JaxHouseMaze/housemaze/assets/image_data.pkl\n"
     ]
    }
   ],
   "source": [
    "from config import TrainConfig, get_args\n",
    "from log_util import dict_to_dataclass\n",
    "from muzero import MuZeroNetwork, make_train\n",
    "from omegaconf import OmegaConf\n",
    "\n",
    "from wrappers.flatten_observation import flatten_observation_wrapper\n",
    "\n",
    "conf = get_args([\"./conf/catch.yaml\", \"./conf/debug.yaml\"])\n",
    "conf = dict_to_dataclass(TrainConfig, OmegaConf.to_object(conf))\n",
    "\n",
    "env = flatten_observation_wrapper(env)\n",
    "\n",
    "key, key_ = jr.split(key)\n",
    "net = MuZeroNetwork(\n",
    "    config=conf.arch,\n",
    "    obs_spec=env.observation_space(params),\n",
    "    num_actions=env.action_space(params).num_values,\n",
    "    num_value_bins=conf.value.num_value_bins,\n",
    "    num_goals=env.goal_space(params).num_values,\n",
    "    key=key_,\n",
    ")"
   ]
  },
  {
   "cell_type": "code",
   "execution_count": 19,
   "metadata": {},
   "outputs": [],
   "source": [
    "train, (rollout, bootstrap) = make_train(conf)"
   ]
  },
  {
   "cell_type": "code",
   "execution_count": 20,
   "metadata": {},
   "outputs": [],
   "source": [
    "key, key_, key_r = jr.split(key, 3)\n",
    "init_timestep = env.reset(params, key=key_)\n",
    "final_timestep, trajectories = rollout(\n",
    "    net, jax.tree.map(lambda x: x[jnp.newaxis], init_timestep), key=key_r\n",
    ")"
   ]
  },
  {
   "cell_type": "code",
   "execution_count": 21,
   "metadata": {},
   "outputs": [
    {
     "data": {
      "image/png": "[encoded data removed]",
      "text/plain": [
       "<Figure size 640x480 with 1 Axes>"
      ]
     },
     "metadata": {},
     "output_type": "display_data"
    },
    {
     "data": {
      "image/png": "[encoded data removed]",
      "text/plain": [
       "<Figure size 640x480 with 1 Axes>"
      ]
     },
     "metadata": {},
     "output_type": "display_data"
    },
    {
     "data": {
      "image/png": "[encoded data removed]",
      "text/plain": [
       "<Figure size 640x480 with 1 Axes>"
      ]
     },
     "metadata": {},
     "output_type": "display_data"
    },
    {
     "data": {
      "image/png": "[encoded data removed]",
      "text/plain": [
       "<Figure size 640x480 with 1 Axes>"
      ]
     },
     "metadata": {},
     "output_type": "display_data"
    },
    {
     "data": {
      "image/png": "[encoded data removed]",
      "text/plain": [
       "<Figure size 640x480 with 1 Axes>"
      ]
     },
     "metadata": {},
     "output_type": "display_data"
    },
    {
     "data": {
      "image/png": "[encoded data removed]",
      "text/plain": [
       "<Figure size 640x480 with 1 Axes>"
      ]
     },
     "metadata": {},
     "output_type": "display_data"
    },
    {
     "data": {
      "image/png": "[encoded data removed]",
      "text/plain": [
       "<Figure size 640x480 with 1 Axes>"
      ]
     },
     "metadata": {},
     "output_type": "display_data"
    },
    {
     "data": {
      "image/png": "[encoded data removed]",
      "text/plain": [
       "<Figure size 640x480 with 1 Axes>"
      ]
     },
     "metadata": {},
     "output_type": "display_data"
    },
    {
     "data": {
      "image/png": "[encoded data removed]",
      "text/plain": [
       "<Figure size 640x480 with 1 Axes>"
      ]
     },
     "metadata": {},
     "output_type": "display_data"
    },
    {
     "data": {
      "image/png": "[encoded data removed]",
      "text/plain": [
       "<Figure size 640x480 with 1 Axes>"
      ]
     },
     "metadata": {},
     "output_type": "display_data"
    }
   ],
   "source": [
    "for i, (img, discount) in enumerate(\n",
    "    zip(\n",
    "        trajectories.timestep.obs.obs.reshape(-1, 10, 5),\n",
    "        trajectories.timestep.discount[0],\n",
    "    )\n",
    "):\n",
    "    plt.imshow(img)\n",
    "    plt.title(f\"{i} d{discount}\")\n",
    "    plt.show()"
   ]
  },
  {
   "cell_type": "code",
   "execution_count": 22,
   "metadata": {},
   "outputs": [],
   "source": [
    "pred, bootstrapped_return = bootstrap(net, tree_slice(trajectories, 0))"
   ]
  },
  {
   "cell_type": "code",
   "execution_count": 23,
   "metadata": {},
   "outputs": [
    {
     "data": {
      "text/plain": [
       "(10, 10, 3)"
      ]
     },
     "execution_count": 23,
     "metadata": {},
     "output_type": "execute_result"
    }
   ],
   "source": [
    "pred.policy_logits.shape"
   ]
  },
  {
   "cell_type": "code",
   "execution_count": 24,
   "metadata": {},
   "outputs": [
    {
     "data": {
      "text/plain": [
       "Prediction(policy_logits=Array([[[-0.25435245,  0.22737645,  0.07620037],\n",
       "        [-0.3148521 ,  0.00307921, -0.10459289],\n",
       "        [-0.33184   , -0.05990207, -0.15535852],\n",
       "        [-0.33335826, -0.06553081, -0.15989552],\n",
       "        [-0.33735445, -0.08034638, -0.17183752],\n",
       "        [-0.33583498, -0.07471308, -0.16729684],\n",
       "        [-0.3351514 , -0.07217875, -0.16525404],\n",
       "        [-0.33401945, -0.06798214, -0.1618714 ],\n",
       "        [-0.3375577 , -0.08109996, -0.17244495],\n",
       "        [-0.3359265 , -0.07505238, -0.16757034]],\n",
       "\n",
       "       [[-0.25097495,  0.23989825,  0.08629349],\n",
       "        [-0.31389543,  0.00662592, -0.1017341 ],\n",
       "        [-0.32532245, -0.03573883, -0.13588189],\n",
       "        [-0.33492097, -0.0713245 , -0.1645655 ],\n",
       "        [-0.33474067, -0.07065597, -0.16402663],\n",
       "        [-0.33465967, -0.07035568, -0.16378458],\n",
       "        [-0.3337243 , -0.06688786, -0.16098936],\n",
       "        [-0.3374669 , -0.08076331, -0.17217357],\n",
       "        [-0.3358856 , -0.07490081, -0.16744815],\n",
       "        [-0.33446044, -0.06961709, -0.16318925]],\n",
       "\n",
       "       [[-0.24953863,  0.24522331,  0.09058571],\n",
       "        [-0.2940662 ,  0.08014118, -0.04247764],\n",
       "        [-0.32593527, -0.03801078, -0.13771321],\n",
       "        [-0.33071494, -0.05573097, -0.15199643],\n",
       "        [-0.33285412, -0.06366175, -0.158389  ],\n",
       "        [-0.33264175, -0.0628745 , -0.15775442],\n",
       "        [-0.33713475, -0.07953182, -0.17118095],\n",
       "        [-0.33573607, -0.07434639, -0.16700126],\n",
       "        [-0.3343706 , -0.06928402, -0.16292077],\n",
       "        [-0.33766586, -0.08150092, -0.1727681 ]],\n",
       "\n",
       "       [[-0.24391872,  0.26605868,  0.10737994],\n",
       "        [-0.31188387,  0.01408368, -0.09572279],\n",
       "        [-0.32441762, -0.03238419, -0.1331779 ],\n",
       "        [-0.33003613, -0.05321434, -0.14996794],\n",
       "        [-0.3309559 , -0.05662432, -0.15271652],\n",
       "        [-0.33661997, -0.07762334, -0.16964261],\n",
       "        [-0.33550444, -0.07348758, -0.16630904],\n",
       "        [-0.33423144, -0.06876811, -0.16250494],\n",
       "        [-0.337623  , -0.08134198, -0.17264001],\n",
       "        [-0.3386742 , -0.0852392 , -0.17578135]],\n",
       "\n",
       "       [[-0.253504  ,  0.23052204,  0.07873586],\n",
       "        [-0.296185  ,  0.07228596, -0.04880926],\n",
       "        [-0.317265  , -0.0058665 , -0.1118035 ],\n",
       "        [-0.32335943, -0.02846101, -0.13001567],\n",
       "        [-0.33433616, -0.06915638, -0.16281788],\n",
       "        [-0.33447802, -0.06968227, -0.16324179],\n",
       "        [-0.3336153 , -0.0664838 , -0.16066366],\n",
       "        [-0.3374334 , -0.08063912, -0.1720735 ],\n",
       "        [-0.3386151 , -0.0850201 , -0.17560475],\n",
       "        [-0.33640292, -0.07681862, -0.168994  ]],\n",
       "\n",
       "       [[-0.25014314,  0.2429822 ,  0.08877927],\n",
       "        [-0.294391  ,  0.07893702, -0.04344824],\n",
       "        [-0.30983663,  0.02167365, -0.08960497],\n",
       "        [-0.33039385, -0.05454054, -0.1510369 ],\n",
       "        [-0.3327103 , -0.06312856, -0.15795921],\n",
       "        [-0.33255562, -0.06255507, -0.15749696],\n",
       "        [-0.33710834, -0.07943401, -0.17110209],\n",
       "        [-0.33851382, -0.08464468, -0.17530213],\n",
       "        [-0.33635727, -0.07664937, -0.16885756],\n",
       "        [-0.33828032, -0.08377901, -0.17460434]],\n",
       "\n",
       "       [[-0.24016145,  0.2799884 ,  0.11860788],\n",
       "        [-0.27799472,  0.13972478,  0.00554934],\n",
       "        [-0.32146308, -0.02143046, -0.12434873],\n",
       "        [-0.3287145 , -0.04831451, -0.14601845],\n",
       "        [-0.33016667, -0.05369827, -0.15035799],\n",
       "        [-0.33638   , -0.07673368, -0.16892551],\n",
       "        [-0.33828738, -0.08380517, -0.17462544],\n",
       "        [-0.3362552 , -0.07627103, -0.16855259],\n",
       "        [-0.33824864, -0.08366156, -0.17450969],\n",
       "        [-0.33623776, -0.0762063 , -0.16850044]],\n",
       "\n",
       "       [[-0.2441175 ,  0.2653217 ,  0.10678589],\n",
       "        [-0.31194076,  0.01387268, -0.09589288],\n",
       "        [-0.32444325, -0.03247917, -0.13325447],\n",
       "        [-0.3276215 , -0.04426229, -0.14275217],\n",
       "        [-0.3356105 , -0.07388091, -0.16662608],\n",
       "        [-0.33804885, -0.08292076, -0.17391257],\n",
       "        [-0.33614773, -0.07587251, -0.16823138],\n",
       "        [-0.3382153 , -0.08353794, -0.17441003],\n",
       "        [-0.3362227 , -0.0761506 , -0.16845553],\n",
       "        [-0.33532575, -0.0728251 , -0.16577505]],\n",
       "\n",
       "       [[-0.23633546,  0.294173  ,  0.13004127],\n",
       "        [-0.2868222 ,  0.10699762, -0.02083015],\n",
       "        [-0.30536434,  0.03825429, -0.07624024],\n",
       "        [-0.3291175 , -0.04980862, -0.14722277],\n",
       "        [-0.336062  , -0.07555479, -0.16797529],\n",
       "        [-0.33525348, -0.07255718, -0.1655591 ],\n",
       "        [-0.33793837, -0.08251125, -0.17358248],\n",
       "        [-0.33609796, -0.075688  , -0.16808267],\n",
       "        [-0.33526963, -0.07261711, -0.16560738],\n",
       "        [-0.33409044, -0.06824535, -0.16208357]],\n",
       "\n",
       "       [[-0.24632168,  0.25714993,  0.1001991 ],\n",
       "        [-0.28154403,  0.12656598, -0.00505722],\n",
       "        [-0.32244885, -0.02508509, -0.12729454],\n",
       "        [-0.3340661 , -0.06815511, -0.16201083],\n",
       "        [-0.33435676, -0.06923273, -0.16287944],\n",
       "        [-0.3376616 , -0.08148512, -0.1727554 ],\n",
       "        [-0.3359733 , -0.07522583, -0.16771014],\n",
       "        [-0.33521357, -0.07240927, -0.16543986],\n",
       "        [-0.3340568 , -0.06812057, -0.16198298],\n",
       "        [-0.3375692 , -0.08114254, -0.17247926]]], dtype=float32), value_logits=Array([[[-0.14100955, -0.2417185 ],\n",
       "        [-0.1542043 , -0.43874565],\n",
       "        [-0.1579093 , -0.49406964],\n",
       "        [-0.15824042, -0.49901402],\n",
       "        [-0.15911198, -0.51202834],\n",
       "        [-0.15878059, -0.50707996],\n",
       "        [-0.1586315 , -0.5048537 ],\n",
       "        [-0.15838464, -0.50116736],\n",
       "        [-0.15915631, -0.5126903 ],\n",
       "        [-0.15880056, -0.507378  ]],\n",
       "\n",
       "       [[-0.14027293, -0.23071912],\n",
       "        [-0.15399566, -0.43563014],\n",
       "        [-0.15648785, -0.47284415],\n",
       "        [-0.15858126, -0.50410336],\n",
       "        [-0.15854192, -0.5035161 ],\n",
       "        [-0.15852426, -0.5032523 ],\n",
       "        [-0.15832026, -0.5002061 ],\n",
       "        [-0.1591365 , -0.5123946 ],\n",
       "        [-0.15879163, -0.5072448 ],\n",
       "        [-0.15848081, -0.50260353]],\n",
       "\n",
       "       [[-0.13995968, -0.22604147],\n",
       "        [-0.14967097, -0.3710529 ],\n",
       "        [-0.1566215 , -0.4748399 ],\n",
       "        [-0.15766393, -0.49040568],\n",
       "        [-0.15813048, -0.49737227],\n",
       "        [-0.15808417, -0.49668068],\n",
       "        [-0.15906407, -0.51131284],\n",
       "        [-0.15875903, -0.50675786],\n",
       "        [-0.15846121, -0.50231093],\n",
       "        [-0.1591799 , -0.5130425 ]],\n",
       "\n",
       "       [[-0.13873398, -0.20773926],\n",
       "        [-0.15355694, -0.4290791 ],\n",
       "        [-0.1562905 , -0.4698974 ],\n",
       "        [-0.15751588, -0.488195  ],\n",
       "        [-0.15771648, -0.49119043],\n",
       "        [-0.15895179, -0.50963634],\n",
       "        [-0.1587085 , -0.50600344],\n",
       "        [-0.15843087, -0.50185776],\n",
       "        [-0.15917055, -0.5129029 ],\n",
       "        [-0.15939981, -0.5163263 ]],\n",
       "\n",
       "       [[-0.14082451, -0.23895535],\n",
       "        [-0.15013307, -0.37795308],\n",
       "        [-0.15473054, -0.44660372],\n",
       "        [-0.15605971, -0.46645117],\n",
       "        [-0.1584537 , -0.5021988 ],\n",
       "        [-0.15848464, -0.50266075],\n",
       "        [-0.15829648, -0.49985117],\n",
       "        [-0.1591292 , -0.5122855 ],\n",
       "        [-0.15938692, -0.51613384],\n",
       "        [-0.15890446, -0.5089295 ]],\n",
       "\n",
       "       [[-0.14009151, -0.22801012],\n",
       "        [-0.14974181, -0.37211066],\n",
       "        [-0.15311044, -0.42241192],\n",
       "        [-0.1575939 , -0.48935997],\n",
       "        [-0.15809911, -0.49690384],\n",
       "        [-0.15806538, -0.49640012],\n",
       "        [-0.15905832, -0.5112269 ],\n",
       "        [-0.15936483, -0.51580405],\n",
       "        [-0.1588945 , -0.50878084],\n",
       "        [-0.15931392, -0.5150436 ]],\n",
       "\n",
       "       [[-0.13791454, -0.19550313],\n",
       "        [-0.14616585, -0.31871346],\n",
       "        [-0.15564613, -0.4602754 ],\n",
       "        [-0.15722764, -0.4838909 ],\n",
       "        [-0.15754436, -0.4886201 ],\n",
       "        [-0.15889946, -0.50885487],\n",
       "        [-0.15931545, -0.5150666 ],\n",
       "        [-0.15887225, -0.5084485 ],\n",
       "        [-0.159307  , -0.51494044],\n",
       "        [-0.15886843, -0.5083916 ]],\n",
       "\n",
       "       [[-0.13877735, -0.20838666],\n",
       "        [-0.15356936, -0.42926443],\n",
       "        [-0.15629609, -0.4699808 ],\n",
       "        [-0.15698926, -0.48033133],\n",
       "        [-0.15873164, -0.50634897],\n",
       "        [-0.15926343, -0.51428974],\n",
       "        [-0.15884879, -0.5080984 ],\n",
       "        [-0.15929973, -0.51483184],\n",
       "        [-0.15886515, -0.5083427 ],\n",
       "        [-0.15866953, -0.5054215 ]],\n",
       "\n",
       "       [[-0.1370801 , -0.18304312],\n",
       "        [-0.1480911 , -0.34746167],\n",
       "        [-0.15213506, -0.40784714],\n",
       "        [-0.15731554, -0.48520336],\n",
       "        [-0.1588301 , -0.5078193 ],\n",
       "        [-0.15865377, -0.50518614],\n",
       "        [-0.15923934, -0.51392996],\n",
       "        [-0.15883794, -0.5079363 ],\n",
       "        [-0.1586573 , -0.5052388 ],\n",
       "        [-0.15840012, -0.50139856]],\n",
       "\n",
       "       [[-0.13925807, -0.2155649 ],\n",
       "        [-0.14693993, -0.3302724 ],\n",
       "        [-0.15586112, -0.46348572],\n",
       "        [-0.15839481, -0.5013193 ],\n",
       "        [-0.1584582 , -0.5022659 ],\n",
       "        [-0.15917897, -0.5130286 ],\n",
       "        [-0.15881075, -0.50753033],\n",
       "        [-0.15864506, -0.5050562 ],\n",
       "        [-0.15839277, -0.50128895],\n",
       "        [-0.15915883, -0.51272774]]], dtype=float32))"
      ]
     },
     "execution_count": 24,
     "metadata": {},
     "output_type": "execute_result"
    }
   ],
   "source": [
    "pred"
   ]
  },
  {
   "cell_type": "code",
   "execution_count": 25,
   "metadata": {},
   "outputs": [
    {
     "name": "stdout",
     "output_type": "stream",
     "text": [
      "0 0.59231126\n",
      "1 0.6327995\n",
      "2 0.676873\n",
      "3 0.72352386\n",
      "4 0.7730878\n",
      "5 0.82529956\n",
      "6 0.88037163\n",
      "7 0.93842876\n",
      "8 1.0\n"
     ]
    }
   ],
   "source": [
    "for i, r in enumerate(bootstrapped_return[0]):\n",
    "    print(i, r)"
   ]
  },
  {
   "cell_type": "markdown",
   "metadata": {},
   "source": [
    "# HouseMaze"
   ]
  },
  {
   "cell_type": "code",
   "execution_count": 26,
   "metadata": {},
   "outputs": [
    {
     "name": "stdout",
     "output_type": "stream",
     "text": [
      "obs success True\n"
     ]
    }
   ],
   "source": [
    "from config import EnvConfig\n",
    "\n",
    "from wrappers.translate import make_env\n",
    "\n",
    "env, params = make_env(EnvConfig(name=\"HouseMaze\", source=\"custom\"))\n",
    "key, key_ = jr.split(key)\n",
    "timestep = env.reset(params, key=key_)"
   ]
  },
  {
   "cell_type": "code",
   "execution_count": 27,
   "metadata": {},
   "outputs": [
    {
     "data": {
      "text/plain": [
       "HouseMazeObs(image=Array([0, 1, 0, 4, 0, 0, 0, 1, 1, 0, 0, 0, 0, 0, 1, 0, 0, 5, 0, 0, 0, 1,\n",
       "       1, 1, 1, 0, 0, 1, 1, 1, 1, 1, 1, 0, 0, 0, 0, 0, 0, 0, 0, 0, 0, 0,\n",
       "       0, 1, 1, 1, 1, 1, 1, 0, 0, 1, 0, 1, 0, 0, 1, 0, 0, 0, 0, 0, 0, 0,\n",
       "       1, 0, 1, 0, 1, 1, 0, 0, 1, 0, 0, 0, 1, 1, 0, 1, 0, 1, 0, 0, 1, 1,\n",
       "       1, 0, 1, 2, 0, 0, 1, 0, 1, 1, 0, 0, 1, 0, 0, 0, 0, 3, 0, 1, 0, 0,\n",
       "       0, 0, 0, 0, 0, 0, 0, 1, 1, 1, 1, 1, 0, 1, 0, 0, 1, 1, 1, 1, 0, 0,\n",
       "       0, 0, 0, 0, 1, 1, 1, 1, 0, 1, 0, 0, 1, 1, 1, 1, 1, 1, 6, 0, 1, 0,\n",
       "       1, 0, 0, 0, 0, 0, 0, 0, 0, 0, 7, 1, 0, 0, 0], dtype=int32), direction=Array(0, dtype=int32, weak_type=True), row=Array(6, dtype=int32), column=Array(6, dtype=int32), prev_action=Array(5, dtype=int32))"
      ]
     },
     "execution_count": 27,
     "metadata": {},
     "output_type": "execute_result"
    }
   ],
   "source": [
    "timestep.obs.obs"
   ]
  },
  {
   "cell_type": "code",
   "execution_count": 29,
   "metadata": {},
   "outputs": [
    {
     "data": {
      "image/png": "[encoded data removed]",
      "text/plain": [
       "<Figure size 640x480 with 1 Axes>"
      ]
     },
     "metadata": {},
     "output_type": "display_data"
    }
   ],
   "source": [
    "from wrappers.translate import visualize_housemaze\n",
    "\n",
    "img = visualize_housemaze(timestep.state)\n",
    "plt.imshow(img)\n",
    "plt.show()"
   ]
  },
  {
   "cell_type": "code",
   "execution_count": 33,
   "metadata": {},
   "outputs": [
    {
     "data": {
      "text/plain": [
       "(13, 13, 1)"
      ]
     },
     "execution_count": 33,
     "metadata": {},
     "output_type": "execute_result"
    }
   ],
   "source": [
    "timestep.state.state.grid.shape"
   ]
  },
  {
   "cell_type": "code",
   "execution_count": null,
   "metadata": {},
   "outputs": [],
   "source": []
  }
 ],
 "metadata": {
  "kernelspec": {
   "display_name": ".venv",
   "language": "python",
   "name": "python3"
  },
  "language_info": {
   "codemirror_mode": {
    "name": "ipython",
    "version": 3
   },
   "file_extension": ".py",
   "mimetype": "text/x-python",
   "name": "python",
   "nbconvert_exporter": "python",
   "pygments_lexer": "ipython3",
   "version": "3.11.11"
  }
 },
 "nbformat": 4,
 "nbformat_minor": 2
}
